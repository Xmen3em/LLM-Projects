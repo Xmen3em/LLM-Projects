{
 "cells": [
  {
   "cell_type": "code",
   "execution_count": null,
   "id": "13b970a9",
   "metadata": {},
   "outputs": [],
   "source": [
    "!pip install -U -q \"google-genai==1.7.0\" \"google-api-core\""
   ]
  },
  {
   "cell_type": "code",
   "execution_count": 1,
   "id": "1d6fc331",
   "metadata": {},
   "outputs": [],
   "source": [
    "from google import genai\n",
    "from google.genai import types\n",
    "\n",
    "from IPython.display import HTML, Markdown, display"
   ]
  },
  {
   "cell_type": "markdown",
   "id": "7b9f6c22",
   "metadata": {},
   "source": [
    "Set up a retry helper. This allows you to \"run all\" without worying about per-minute quota"
   ]
  },
  {
   "cell_type": "code",
   "execution_count": 2,
   "id": "8b8d6b44",
   "metadata": {},
   "outputs": [],
   "source": [
    "from google.api_core import retry\n",
    "\n",
    "is_rerun = lambda e: (isinstance(e, genai.errors.APIError) and e.code in {429, 503}) \n",
    "\n",
    "genai.models.Models.generate_content = retry.Retry(\n",
    "    predicatre=is_rerun,)(genai.models.Models.generate_content)"
   ]
  },
  {
   "cell_type": "markdown",
   "id": "9e02b16f",
   "metadata": {},
   "source": [
    "Set up the Google API Key"
   ]
  },
  {
   "cell_type": "code",
   "execution_count": 3,
   "id": "d3e3afb4",
   "metadata": {},
   "outputs": [],
   "source": [
    "import os\n",
    "from dotenv import load_dotenv\n",
    "load_dotenv()\n",
    "\n",
    "os.environ[\"google_api_key\"] = os.getenv(\"google_api_key\")"
   ]
  },
  {
   "cell_type": "markdown",
   "id": "46e754df",
   "metadata": {},
   "source": [
    "Run the First Prompt"
   ]
  },
  {
   "cell_type": "code",
   "execution_count": 4,
   "id": "bdcf7845",
   "metadata": {},
   "outputs": [],
   "source": [
    "client = genai.Client()\n",
    "\n",
    "response = client.models.generate_content(\n",
    "    model=\"gemini-2.0-flash\",\n",
    "    contents=[\n",
    "        types.Content(\n",
    "            parts=[\n",
    "                types.Part(text=\"What is the meaning of life?\")\n",
    "            ]\n",
    "        )\n",
    "    ]\n",
    ")"
   ]
  },
  {
   "cell_type": "code",
   "execution_count": 5,
   "id": "74e36154",
   "metadata": {},
   "outputs": [
    {
     "name": "stdout",
     "output_type": "stream",
     "text": [
      "Ah, the million-dollar question! The meaning of life is one of the oldest and most debated questions in human history. There's no single, universally accepted answer, and that's kind of the point. Here's a breakdown of why it's such a complex question and some common perspectives:\n",
      "\n",
      "**Why There's No Single Answer:**\n",
      "\n",
      "*   **Subjectivity:** Meaning is often a personal construct. What gives one person purpose might seem pointless to another.\n",
      "*   **Philosophical Debate:** Philosophers have grappled with this question for centuries, offering diverse viewpoints.\n",
      "*   **Evolutionary Perspective:** From a purely biological standpoint, the \"meaning\" is survival and reproduction. However, most humans seek something beyond that.\n",
      "*   **Lack of Empirical Proof:** There's no scientific experiment to definitively determine the meaning of life.\n",
      "\n",
      "**Common Perspectives on the Meaning of Life:**\n",
      "\n",
      "*   **Nihilism:** The belief that life is inherently without meaning, purpose, or intrinsic value. This can be a bleak view, but some find freedom in it, as it removes the pressure to find a pre-ordained meaning.\n",
      "\n",
      "*   **Existentialism:** Emphasizes individual freedom and responsibility. We are born into a meaningless world, and it's up to each individual to create their own meaning through choices and actions. Key figures include Sartre and Camus.\n",
      "\n",
      "*   **Absurdism:** Acknowledges the conflict between our innate desire for meaning and the meaninglessness of the universe. Absurdists suggest we should embrace this absurdity and rebel against it by living passionately and authentically. Camus is often associated with this.\n",
      "\n",
      "*   **Hedonism:** The pursuit of pleasure and avoidance of pain as the ultimate goal. This doesn't necessarily mean reckless indulgence, but rather finding joy and contentment in life.\n",
      "\n",
      "*   **Stoicism:** Focuses on virtue, reason, and acceptance of what we cannot control. Finding meaning through living a virtuous life, contributing to society, and maintaining inner peace.\n",
      "\n",
      "*   **Purpose-Driven Life:** Finding meaning in serving a higher power, following religious or spiritual principles, and contributing to something larger than oneself.\n",
      "\n",
      "*   **Humanism:** Emphasizes human reason, ethics, and social justice. Meaning is found in improving the lives of others, promoting human flourishing, and creating a better world.\n",
      "\n",
      "*   **Relationships and Connection:** Finding meaning in building strong relationships with loved ones, forming communities, and contributing to the well-being of others.\n",
      "\n",
      "*   **Personal Growth and Learning:** Pursuing knowledge, developing skills, and striving to become the best version of oneself.\n",
      "\n",
      "*   **Contribution and Legacy:** Making a positive impact on the world, leaving a lasting legacy, and contributing to the future.\n",
      "\n",
      "*   **Experiencing Life:** Fully embracing the richness and diversity of life, appreciating beauty, and engaging in meaningful experiences.\n",
      "\n",
      "**How to Find *Your* Meaning:**\n",
      "\n",
      "Instead of searching for a universal answer, consider these steps:\n",
      "\n",
      "1.  **Reflect on Your Values:** What's truly important to you? What do you care deeply about?\n",
      "2.  **Identify Your Passions:** What activities make you feel alive and engaged?\n",
      "3.  **Consider Your Strengths:** What are you good at? How can you use your talents to make a difference?\n",
      "4.  **Experiment and Explore:** Try new things, meet new people, and step outside your comfort zone.\n",
      "5.  **Be Present:** Practice mindfulness and appreciate the small moments in life.\n",
      "6.  **Set Goals:** Having something to strive for can provide direction and purpose.\n",
      "7.  **Don't Be Afraid to Change Your Mind:** Meaning can evolve over time.\n",
      "\n",
      "**In Conclusion:**\n",
      "\n",
      "The meaning of life is a personal journey, not a destination. There's no right or wrong answer. It's about creating your own meaning through your values, actions, and relationships. The search itself can be a meaningful endeavor. So, explore, question, and create a life that feels purposeful and fulfilling to you.\n",
      "\n"
     ]
    }
   ],
   "source": [
    "print(response.text)"
   ]
  },
  {
   "cell_type": "code",
   "execution_count": 6,
   "id": "dc0c9d71",
   "metadata": {},
   "outputs": [
    {
     "data": {
      "text/markdown": [
       "Ah, the million-dollar question! The meaning of life is one of the oldest and most debated questions in human history. There's no single, universally accepted answer, and that's kind of the point. Here's a breakdown of why it's such a complex question and some common perspectives:\n",
       "\n",
       "**Why There's No Single Answer:**\n",
       "\n",
       "*   **Subjectivity:** Meaning is often a personal construct. What gives one person purpose might seem pointless to another.\n",
       "*   **Philosophical Debate:** Philosophers have grappled with this question for centuries, offering diverse viewpoints.\n",
       "*   **Evolutionary Perspective:** From a purely biological standpoint, the \"meaning\" is survival and reproduction. However, most humans seek something beyond that.\n",
       "*   **Lack of Empirical Proof:** There's no scientific experiment to definitively determine the meaning of life.\n",
       "\n",
       "**Common Perspectives on the Meaning of Life:**\n",
       "\n",
       "*   **Nihilism:** The belief that life is inherently without meaning, purpose, or intrinsic value. This can be a bleak view, but some find freedom in it, as it removes the pressure to find a pre-ordained meaning.\n",
       "\n",
       "*   **Existentialism:** Emphasizes individual freedom and responsibility. We are born into a meaningless world, and it's up to each individual to create their own meaning through choices and actions. Key figures include Sartre and Camus.\n",
       "\n",
       "*   **Absurdism:** Acknowledges the conflict between our innate desire for meaning and the meaninglessness of the universe. Absurdists suggest we should embrace this absurdity and rebel against it by living passionately and authentically. Camus is often associated with this.\n",
       "\n",
       "*   **Hedonism:** The pursuit of pleasure and avoidance of pain as the ultimate goal. This doesn't necessarily mean reckless indulgence, but rather finding joy and contentment in life.\n",
       "\n",
       "*   **Stoicism:** Focuses on virtue, reason, and acceptance of what we cannot control. Finding meaning through living a virtuous life, contributing to society, and maintaining inner peace.\n",
       "\n",
       "*   **Purpose-Driven Life:** Finding meaning in serving a higher power, following religious or spiritual principles, and contributing to something larger than oneself.\n",
       "\n",
       "*   **Humanism:** Emphasizes human reason, ethics, and social justice. Meaning is found in improving the lives of others, promoting human flourishing, and creating a better world.\n",
       "\n",
       "*   **Relationships and Connection:** Finding meaning in building strong relationships with loved ones, forming communities, and contributing to the well-being of others.\n",
       "\n",
       "*   **Personal Growth and Learning:** Pursuing knowledge, developing skills, and striving to become the best version of oneself.\n",
       "\n",
       "*   **Contribution and Legacy:** Making a positive impact on the world, leaving a lasting legacy, and contributing to the future.\n",
       "\n",
       "*   **Experiencing Life:** Fully embracing the richness and diversity of life, appreciating beauty, and engaging in meaningful experiences.\n",
       "\n",
       "**How to Find *Your* Meaning:**\n",
       "\n",
       "Instead of searching for a universal answer, consider these steps:\n",
       "\n",
       "1.  **Reflect on Your Values:** What's truly important to you? What do you care deeply about?\n",
       "2.  **Identify Your Passions:** What activities make you feel alive and engaged?\n",
       "3.  **Consider Your Strengths:** What are you good at? How can you use your talents to make a difference?\n",
       "4.  **Experiment and Explore:** Try new things, meet new people, and step outside your comfort zone.\n",
       "5.  **Be Present:** Practice mindfulness and appreciate the small moments in life.\n",
       "6.  **Set Goals:** Having something to strive for can provide direction and purpose.\n",
       "7.  **Don't Be Afraid to Change Your Mind:** Meaning can evolve over time.\n",
       "\n",
       "**In Conclusion:**\n",
       "\n",
       "The meaning of life is a personal journey, not a destination. There's no right or wrong answer. It's about creating your own meaning through your values, actions, and relationships. The search itself can be a meaningful endeavor. So, explore, question, and create a life that feels purposeful and fulfilling to you.\n"
      ],
      "text/plain": [
       "<IPython.core.display.Markdown object>"
      ]
     },
     "execution_count": 6,
     "metadata": {},
     "output_type": "execute_result"
    }
   ],
   "source": [
    "Markdown(response.text)"
   ]
  },
  {
   "cell_type": "markdown",
   "id": "122a9452",
   "metadata": {},
   "source": [
    "Start a Chat"
   ]
  },
  {
   "cell_type": "code",
   "execution_count": 7,
   "id": "805d800b",
   "metadata": {},
   "outputs": [
    {
     "name": "stdout",
     "output_type": "stream",
     "text": [
      "Hello Abdelmonem! It's nice to meet you. How can I help you today?\n",
      "\n"
     ]
    }
   ],
   "source": [
    "chat = client.chats.create(model = 'gemini-2.0-flash', history= [])\n",
    "\n",
    "response = chat.send_message(\"hello, my name is abdelmonem\")\n",
    "print(response.text)"
   ]
  },
  {
   "cell_type": "code",
   "execution_count": 8,
   "id": "fa1766b2",
   "metadata": {},
   "outputs": [
    {
     "name": "stdout",
     "output_type": "stream",
     "text": [
      "Okay, here's a cool dinosaur fact for you:\n",
      "\n",
      "**Did you know that some dinosaurs had feathers?**\n",
      "\n",
      "It's a common misconception that all dinosaurs were scaly reptiles. While many were, we now have fossil evidence showing that many theropods (the group that includes T. rex and velociraptors) had feathers! These feathers weren't necessarily for flight. They likely served purposes like insulation, display, or even camouflage.\n",
      "\n",
      "In fact, some smaller theropods, like *Microraptor*, even had four wings, one on each leg!\n",
      "\n",
      "So, next time you think of dinosaurs, remember that they weren't just giant lizards, but often more complex and bird-like creatures than we once imagined.\n",
      "\n",
      "Is there anything else you'd like to know about dinosaurs? I can tell you about specific types, their diets, or other interesting discoveries!\n",
      "\n"
     ]
    }
   ],
   "source": [
    "response = chat.send_message('Can you tell me something interesting about dinosaurs?')\n",
    "print(response.text)"
   ]
  },
  {
   "cell_type": "code",
   "execution_count": 9,
   "id": "41b04170",
   "metadata": {},
   "outputs": [
    {
     "name": "stdout",
     "output_type": "stream",
     "text": [
      "Yes, your name is Abdelmonem.\n",
      "\n"
     ]
    }
   ],
   "source": [
    "response = chat.send_message('Do you remember what my name is?')\n",
    "print(response.text)"
   ]
  },
  {
   "cell_type": "markdown",
   "id": "4d1a4187",
   "metadata": {},
   "source": [
    "Choose the Model"
   ]
  },
  {
   "cell_type": "code",
   "execution_count": 10,
   "id": "2544c760",
   "metadata": {},
   "outputs": [
    {
     "name": "stdout",
     "output_type": "stream",
     "text": [
      "models/embedding-gecko-001\n",
      "models/gemini-1.0-pro-vision-latest\n",
      "models/gemini-pro-vision\n",
      "models/gemini-1.5-pro-latest\n",
      "models/gemini-1.5-pro-001\n",
      "models/gemini-1.5-pro-002\n",
      "models/gemini-1.5-pro\n",
      "models/gemini-1.5-flash-latest\n",
      "models/gemini-1.5-flash-001\n",
      "models/gemini-1.5-flash-001-tuning\n",
      "models/gemini-1.5-flash\n",
      "models/gemini-1.5-flash-002\n",
      "models/gemini-1.5-flash-8b\n",
      "models/gemini-1.5-flash-8b-001\n",
      "models/gemini-1.5-flash-8b-latest\n",
      "models/gemini-1.5-flash-8b-exp-0827\n",
      "models/gemini-1.5-flash-8b-exp-0924\n",
      "models/gemini-2.5-pro-exp-03-25\n",
      "models/gemini-2.5-pro-preview-03-25\n",
      "models/gemini-2.5-flash-preview-04-17\n",
      "models/gemini-2.5-flash-preview-04-17-thinking\n",
      "models/gemini-2.5-pro-preview-05-06\n",
      "models/gemini-2.0-flash-exp\n",
      "models/gemini-2.0-flash\n",
      "models/gemini-2.0-flash-001\n",
      "models/gemini-2.0-flash-lite-001\n",
      "models/gemini-2.0-flash-lite\n",
      "models/gemini-2.0-flash-lite-preview-02-05\n",
      "models/gemini-2.0-flash-lite-preview\n",
      "models/gemini-2.0-pro-exp\n",
      "models/gemini-2.0-pro-exp-02-05\n",
      "models/gemini-exp-1206\n",
      "models/gemini-2.0-flash-thinking-exp-01-21\n",
      "models/gemini-2.0-flash-thinking-exp\n",
      "models/gemini-2.0-flash-thinking-exp-1219\n",
      "models/learnlm-2.0-flash-experimental\n",
      "models/gemma-3-1b-it\n",
      "models/gemma-3-4b-it\n",
      "models/gemma-3-12b-it\n",
      "models/gemma-3-27b-it\n",
      "models/embedding-001\n",
      "models/text-embedding-004\n",
      "models/gemini-embedding-exp-03-07\n",
      "models/gemini-embedding-exp\n",
      "models/aqa\n",
      "models/imagen-3.0-generate-002\n",
      "models/gemini-2.0-flash-live-001\n"
     ]
    }
   ],
   "source": [
    "for model in client.models.list():\n",
    "    print(model.name)"
   ]
  },
  {
   "cell_type": "markdown",
   "id": "39d79c27",
   "metadata": {},
   "source": [
    "The models.list response also returns additional information about the model's capabilities, like the token limits and supported parameters.\n",
    "\n"
   ]
  },
  {
   "cell_type": "code",
   "execution_count": 11,
   "id": "ca833c00",
   "metadata": {},
   "outputs": [
    {
     "name": "stdout",
     "output_type": "stream",
     "text": [
      "{'description': 'Gemini 2.0 Flash',\n",
      " 'display_name': 'Gemini 2.0 Flash',\n",
      " 'input_token_limit': 1048576,\n",
      " 'name': 'models/gemini-2.0-flash',\n",
      " 'output_token_limit': 8192,\n",
      " 'supported_actions': ['generateContent',\n",
      "                       'countTokens',\n",
      "                       'createCachedContent',\n",
      "                       'batchGenerateContent'],\n",
      " 'tuned_model_info': {},\n",
      " 'version': '2.0'}\n"
     ]
    }
   ],
   "source": [
    "from pprint import pprint\n",
    "\n",
    "for model in client.models.list():\n",
    "    if model.name == 'models/gemini-2.0-flash':\n",
    "        pprint(model.to_json_dict())\n",
    "        break"
   ]
  },
  {
   "cell_type": "markdown",
   "id": "5451e9a6",
   "metadata": {},
   "source": [
    "Explore the generation parameters"
   ]
  },
  {
   "cell_type": "markdown",
   "id": "261a570d",
   "metadata": {},
   "source": [
    "Output Lenght"
   ]
  },
  {
   "cell_type": "code",
   "execution_count": 14,
   "id": "b7dc04d3",
   "metadata": {},
   "outputs": [
    {
     "data": {
      "text/markdown": [
       "## The Unexpected MVP: The Importance of Olives in Modern Sports\n",
       "\n",
       "While athletes meticulously track macronutrients, hydrate with precision, and utilize cutting-edge recovery techniques, one seemingly humble food source often gets overlooked: the olive. Often relegated to the sidelines as a pizza topping or a cocktail garnish, the olive, in its various forms, possesses a wealth of nutritional properties and practical applications that make it surprisingly important in the modern world of sports, impacting performance, recovery, and even athletic culture.\n",
       "\n",
       "Firstly, the olive and its derivative, olive oil, are potent sources of monounsaturated fats (MUFAs), primarily oleic acid. This is a crucial element for athletes seeking sustained energy and improved cardiovascular health. Unlike saturated fats, MUFAs do not raise LDL (\"bad\") cholesterol levels and can even help lower them, promoting a healthier heart and reducing the risk of cardiovascular disease, a significant concern for athletes pushing their bodies to the limit. For endurance athletes, like marathon runners and cyclists, MUFAs"
      ],
      "text/plain": [
       "<IPython.core.display.Markdown object>"
      ]
     },
     "execution_count": 14,
     "metadata": {},
     "output_type": "execute_result"
    }
   ],
   "source": [
    "from google.genai import types\n",
    "\n",
    "short_config = types.GenerateContentConfig(max_output_tokens = 200)\n",
    "\n",
    "response = client.models.generate_content(\n",
    "    model = 'gemini-2.0-flash',\n",
    "    config = short_config,\n",
    "    contents = 'write a 1000 word essay on the importance of olives in modern sports'\n",
    ")\n",
    "Markdown(response.text)"
   ]
  },
  {
   "cell_type": "markdown",
   "id": "07c16f4b",
   "metadata": {},
   "source": [
    "Temperature"
   ]
  },
  {
   "cell_type": "code",
   "execution_count": 17,
   "id": "2a0b5fdd",
   "metadata": {},
   "outputs": [
    {
     "name": "stdout",
     "output_type": "stream",
     "text": [
      "Turquoise\n",
      " -------------------------\n",
      "Turquoise\n",
      " -------------------------\n",
      "Magenta\n",
      " -------------------------\n",
      "Magenta\n",
      " -------------------------\n",
      "Azure\n",
      " -------------------------\n"
     ]
    }
   ],
   "source": [
    "high_temp_config = types.GenerateContentConfig(temperature=2)\n",
    "\n",
    "for _ in range(5):\n",
    "    response = client.models.generate_content(\n",
    "        model='gemini-2.0-flash',\n",
    "        config = high_temp_config,\n",
    "        contents= 'pick a random color... (respond in a single word)'\n",
    "    )\n",
    "    \n",
    "    if response.text:\n",
    "        print(response.text, '-'* 25)"
   ]
  },
  {
   "cell_type": "code",
   "execution_count": 18,
   "id": "d9c33a6c",
   "metadata": {},
   "outputs": [
    {
     "name": "stdout",
     "output_type": "stream",
     "text": [
      "Turquoise\n",
      " -------------------------\n",
      "Turquoise\n",
      " -------------------------\n",
      "Turquoise\n",
      " -------------------------\n",
      "Turquoise\n",
      " -------------------------\n",
      "Turquoise\n",
      " -------------------------\n"
     ]
    }
   ],
   "source": [
    "high_temp_config = types.GenerateContentConfig(temperature=0)\n",
    "\n",
    "for _ in range(5):\n",
    "    response = client.models.generate_content(\n",
    "        model='gemini-2.0-flash',\n",
    "        config = high_temp_config,\n",
    "        contents= 'pick a random color... (respond in a single word)'\n",
    "    )\n",
    "    \n",
    "    if response.text:\n",
    "        print(response.text, '-'* 25)"
   ]
  },
  {
   "cell_type": "markdown",
   "id": "226337c7",
   "metadata": {},
   "source": [
    "**Top-P**\n",
    "Like temperature, the top-P parameter is also used to control the diversity of the model's output.\n",
    "\n",
    "Top-P defines the probability threshold that, once cumulatively exceeded, tokens stop being selected as candidates. A top-P of 0 is typically equivalent to greedy decoding, and a top-P of 1 typically selects every token in the model's vocabulary.\n",
    "\n",
    "You may also see top-K referenced in LLM literature. Top-K is not configurable in the Gemini 2.0 series of models, but can be changed in older models. Top-K is a positive integer that defines the number of most probable tokens from which to select the output token. A top-K of 1 selects a single token, performing greedy decoding.\n",
    "\n",
    "Run this example a number of times, change the settings and observe the change in output.\n",
    "\n"
   ]
  },
  {
   "cell_type": "code",
   "execution_count": 20,
   "id": "9cc7dafb",
   "metadata": {},
   "outputs": [
    {
     "name": "stdout",
     "output_type": "stream",
     "text": [
      "Clementine, a calico cat of discerning taste and a dramatic flair for naps, had always considered her existence quite satisfactory. Sunny spots on the rug, a steady supply of tuna-flavored pate, and a human who, bless her heart, tolerated Clementine's regal demands – what more could a cat desire?\n",
      "\n",
      "Then, the squirrel happened.\n",
      "\n",
      "This wasn't just any squirrel. This was a fluffy-tailed, acorn-cheeked rogue who dared to taunt Clementine from the ancient oak tree that loomed over the garden. He’d chatter insolently, flick his tail with a dismissive flourish, and occasionally, brazenly bury a nut just beyond Clementine’s reach.\n",
      "\n",
      "One day, the squirrel, in a particularly audacious display, dangled a perfectly ripe berry just inches from Clementine’s nose before scampering up the oak. Something snapped. The comfy life, the tuna, the sunny spots – they all faded in the face of this ultimate insult.\n",
      "\n",
      "Clementine had never ventured beyond the garden gate. But today, fueled by a simmering feline fury, she did. She squeezed through the rusty bars, the metallic tang strangely exciting.\n",
      "\n",
      "The world outside was a riot of smells and sounds. Cars roared like metallic beasts, dogs barked like deranged wind chimes, and the air hummed with an energy Clementine had only glimpsed through the window.\n",
      "\n",
      "The squirrel was long gone, of course. But Clementine, emboldened by her act of rebellion, pressed on. She stalked through a park, its green expanse overwhelming. She navigated a busy street, dodging feet and bicycles with a surprising agility. She even scaled a dumpster, finding a discarded fish skeleton that, while not tuna, was undeniably interesting.\n",
      "\n",
      "Her adventure wasn't glamorous. There were hisses from territorial strays, the chilling spray of a rogue sprinkler, and the gnawing pang of hunger. But with each challenge, Clementine felt a thrill she’d never known before. This was more than just comfortable. This was… exhilarating.\n",
      "\n",
      "As dusk painted the sky in shades of violet and orange, Clementine found herself near a fish market. The air thrummed with the scent of the sea, and the sight of glistening cod piled high sent a jolt of primal instinct through her.\n",
      "\n",
      "She spent the next hour employing all her feline cunning. She purred at a kindly old vendor, she rubbed against his legs with practiced grace, and she even executed a perfectly timed head-butt against his hand. Finally, with a wink and a chuckle, the vendor tossed her a small piece of salmon.\n",
      "\n",
      "It was the most delicious thing Clementine had ever tasted.\n",
      "\n",
      "Sated and weary, Clementine started the journey home. The world still hummed, but now, it felt less daunting. She understood its rhythms, its dangers, and its occasional, delicious rewards.\n",
      "\n",
      "As she slipped back through the garden gate, she saw her human frantically calling her name. She meowed a soft greeting, rubbing against her legs, purring louder than ever before.\n",
      "\n",
      "Later, curled up in her favorite sunny spot, with a fresh bowl of tuna pate, Clementine felt a pang of contentment. But beneath the comfortable purr, a new spark flickered. The world was bigger than the garden. And Clementine, the calico cat with discerning taste, knew that this was just the beginning of her adventures. After all, that squirrel was still out there. And Clementine, now a seasoned explorer, was ready for round two.\n",
      "\n"
     ]
    }
   ],
   "source": [
    "model_config = types.GenerateContentConfig(temperature=1,\n",
    "                                           top_p=.95)\n",
    "story_prompt = \"You are a creative writer. Write a short story about a cat who goes on an adventure.\"\n",
    "\n",
    "response = client.models.generate_content(\n",
    "    model='gemini-2.0-flash',\n",
    "    config=model_config,\n",
    "    contents=story_prompt)\n",
    "\n",
    "print(response.text)"
   ]
  },
  {
   "cell_type": "markdown",
   "id": "dc4b52ef",
   "metadata": {},
   "source": [
    "Prompting"
   ]
  },
  {
   "cell_type": "markdown",
   "id": "8dafa032",
   "metadata": {},
   "source": [
    "1- Zero Shot: \n",
    "Zero-shot prompts are prompts that describe the request for the model directly.\n",
    "\n"
   ]
  },
  {
   "cell_type": "code",
   "execution_count": 21,
   "id": "fafd3b52",
   "metadata": {},
   "outputs": [
    {
     "name": "stdout",
     "output_type": "stream",
     "text": [
      "POSITIVE\n",
      "\n"
     ]
    }
   ],
   "source": [
    "model_config = types.GenerateContentConfig(\n",
    "    temperature=0.1,\n",
    "    top_p=1,\n",
    "    max_output_tokens=5,\n",
    ")\n",
    "\n",
    "zero_shot_prompt = \"\"\"Classify movie reviews as POSITIVE, NEUTRAL or NEGATIVE.\n",
    "Review: \"Her\" is a disturbing study revealing the direction\n",
    "humanity is headed if AI is allowed to keep evolving,\n",
    "unchecked. I wish there were more movies like this masterpiece.\n",
    "Sentiment: \"\"\"\n",
    "\n",
    "response = client.models.generate_content(\n",
    "    model='gemini-2.0-flash',\n",
    "    config=model_config,\n",
    "    contents=zero_shot_prompt)\n",
    "\n",
    "print(response.text)"
   ]
  },
  {
   "cell_type": "markdown",
   "id": "3360aae7",
   "metadata": {},
   "source": [
    "**Enum mode**\n",
    "The models are trained to generate text, and while the Gemini 2.0 models are great at following instructions, other models can sometimes produce more text than you may wish for. In the preceding example, the model will output the label, but sometimes it can include a preceding \"Sentiment\" label, and without an output token limit, it may also add explanatory text afterwards. See this prompt in AI Studio for an example.\n",
    "\n",
    "The Gemini API has an Enum mode feature that allows you to constrain the output to a fixed set of values."
   ]
  },
  {
   "cell_type": "code",
   "execution_count": 22,
   "id": "3257732b",
   "metadata": {},
   "outputs": [
    {
     "name": "stdout",
     "output_type": "stream",
     "text": [
      "positive\n"
     ]
    }
   ],
   "source": [
    "import enum\n",
    "\n",
    "class Sentiment(enum.Enum):\n",
    "    POSITIVE = \"positive\"\n",
    "    NEUTRAL = \"neutral\"\n",
    "    NEGATIVE = \"negative\"\n",
    "\n",
    "\n",
    "response = client.models.generate_content(\n",
    "    model='gemini-2.0-flash',\n",
    "    config=types.GenerateContentConfig(\n",
    "        response_mime_type=\"text/x.enum\",\n",
    "        response_schema=Sentiment\n",
    "    ),\n",
    "    contents=zero_shot_prompt)\n",
    "\n",
    "print(response.text)"
   ]
  },
  {
   "cell_type": "code",
   "execution_count": 23,
   "id": "0ca5f0c5",
   "metadata": {},
   "outputs": [
    {
     "name": "stdout",
     "output_type": "stream",
     "text": [
      "Sentiment.POSITIVE\n",
      "<enum 'Sentiment'>\n"
     ]
    }
   ],
   "source": [
    "enum_response = response.parsed\n",
    "print(enum_response)\n",
    "print(type(enum_response))"
   ]
  },
  {
   "cell_type": "markdown",
   "id": "cab1e642",
   "metadata": {},
   "source": [
    "2- One-shot and few-shot"
   ]
  },
  {
   "cell_type": "code",
   "execution_count": 24,
   "id": "4d54b9a2",
   "metadata": {},
   "outputs": [
    {
     "name": "stdout",
     "output_type": "stream",
     "text": [
      "```json\n",
      "{\n",
      "\"size\": \"large\",\n",
      "\"type\": \"normal\",\n",
      "\"ingredients\": [\"cheese\", \"pineapple\"]\n",
      "}\n",
      "```\n",
      "\n"
     ]
    }
   ],
   "source": [
    "few_shot_prompt = \"\"\"Parse a customer's pizza order into valid JSON:\n",
    "\n",
    "EXAMPLE:\n",
    "I want a small pizza with cheese, tomato sauce, and pepperoni.\n",
    "JSON Response:\n",
    "```\n",
    "{\n",
    "\"size\": \"small\",\n",
    "\"type\": \"normal\",\n",
    "\"ingredients\": [\"cheese\", \"tomato sauce\", \"pepperoni\"]\n",
    "}\n",
    "```\n",
    "\n",
    "EXAMPLE:\n",
    "Can I get a large pizza with tomato sauce, basil and mozzarella\n",
    "JSON Response:\n",
    "```\n",
    "{\n",
    "\"size\": \"large\",\n",
    "\"type\": \"normal\",\n",
    "\"ingredients\": [\"tomato sauce\", \"basil\", \"mozzarella\"]\n",
    "}\n",
    "```\n",
    "\n",
    "ORDER:\n",
    "\"\"\"\n",
    "\n",
    "customer_order = \"Give me a large with cheese & pineapple\"\n",
    "\n",
    "response = client.models.generate_content(\n",
    "    model='gemini-2.0-flash',\n",
    "    config=types.GenerateContentConfig(\n",
    "        temperature=0.1,\n",
    "        top_p=1,\n",
    "        max_output_tokens=250,\n",
    "    ),\n",
    "    contents=[few_shot_prompt, customer_order])\n",
    "\n",
    "print(response.text)"
   ]
  },
  {
   "cell_type": "markdown",
   "id": "2da309fe",
   "metadata": {},
   "source": [
    "**JSON mode**\n",
    "To provide control over the schema, and to ensure that you only receive JSON (with no other text or markdown), you can use the Gemini API's JSON mode. This forces the model to constrain decoding, such that token selection is guided by the supplied schema.\n",
    "\n"
   ]
  },
  {
   "cell_type": "code",
   "execution_count": 25,
   "id": "5a03bac5",
   "metadata": {},
   "outputs": [
    {
     "name": "stdout",
     "output_type": "stream",
     "text": [
      "{\n",
      "  \"size\": \"large\",\n",
      "  \"ingredients\": [\"apple\", \"chocolate\"],\n",
      "  \"type\": \"dessert\"\n",
      "}\n"
     ]
    }
   ],
   "source": [
    "import typing_extensions as typing\n",
    "\n",
    "class PizzaOrder(typing.TypedDict):\n",
    "    size: str\n",
    "    ingredients: list[str]\n",
    "    type: str\n",
    "\n",
    "\n",
    "response = client.models.generate_content(\n",
    "    model='gemini-2.0-flash',\n",
    "    config=types.GenerateContentConfig(\n",
    "        temperature=0.1,\n",
    "        response_mime_type=\"application/json\",\n",
    "        response_schema=PizzaOrder,\n",
    "    ),\n",
    "    contents=\"Can I have a large dessert pizza with apple and chocolate\")\n",
    "\n",
    "print(response.text)"
   ]
  },
  {
   "cell_type": "markdown",
   "id": "60b52aec",
   "metadata": {},
   "source": [
    "**Chain of Thought (CoT)**\n",
    "Direct prompting on LLMs can return answers quickly and (in terms of output token usage) efficiently, but they can be prone to hallucination. The answer may \"look\" correct (in terms of language and syntax) but is incorrect in terms of factuality and reasoning.\n",
    "- **Chain-of-Thought** prompting is a technique where you instruct the model to output intermediate reasoning steps, and it typically gets better results, especially when combined with few-shot examples. It is worth noting that this technique doesn't completely eliminate hallucinations, and that it tends to cost more to run, due to the increased token count."
   ]
  },
  {
   "cell_type": "code",
   "execution_count": 26,
   "id": "2559ba89",
   "metadata": {},
   "outputs": [
    {
     "name": "stdout",
     "output_type": "stream",
     "text": [
      "68\n",
      "\n"
     ]
    }
   ],
   "source": [
    "prompt = \"\"\"When I was 4 years old, my partner was 3 times my age. Now, I\n",
    "am 20 years old. How old is my partner? Return the answer directly.\"\"\"\n",
    "\n",
    "response = client.models.generate_content(\n",
    "    model='gemini-2.0-flash',\n",
    "    contents=prompt)\n",
    "\n",
    "print(response.text)"
   ]
  },
  {
   "cell_type": "markdown",
   "id": "f9d6cd63",
   "metadata": {},
   "source": [
    "Now try the same approach, but indicate to the model that it should \"think step by step\".\n",
    "\n"
   ]
  },
  {
   "cell_type": "code",
   "execution_count": 27,
   "id": "e658aa23",
   "metadata": {},
   "outputs": [
    {
     "data": {
      "text/markdown": [
       "Here's how to solve this:\n",
       "\n",
       "1. **Find the age difference:** When you were 4, your partner was 3 * 4 = 12 years old.\n",
       "2. **Calculate the age difference:** The age difference between you and your partner is 12 - 4 = 8 years.\n",
       "3. **Determine the partner's current age:** Since the age difference remains constant, your partner is currently 20 + 8 = 28 years old.\n",
       "\n",
       "**Answer:** Your partner is currently 28 years old.\n"
      ],
      "text/plain": [
       "<IPython.core.display.Markdown object>"
      ]
     },
     "execution_count": 27,
     "metadata": {},
     "output_type": "execute_result"
    }
   ],
   "source": [
    "prompt = \"\"\"When I was 4 years old, my partner was 3 times my age. Now,\n",
    "I am 20 years old. How old is my partner? Let's think step by step.\"\"\"\n",
    "\n",
    "response = client.models.generate_content(\n",
    "    model='gemini-2.0-flash',\n",
    "    contents=prompt)\n",
    "\n",
    "Markdown(response.text)"
   ]
  },
  {
   "cell_type": "markdown",
   "id": "05afcf2d",
   "metadata": {},
   "source": [
    "ReAct: Reason and act"
   ]
  },
  {
   "cell_type": "markdown",
   "id": "214b05d5",
   "metadata": {},
   "source": [
    "In this example you will run a ReAct prompt directly in the Gemini API and perform the searching steps yourself. As this prompt follows a well-defined structure, there are frameworks available that wrap the prompt into easier-to-use APIs that make tool calls automatically, such as the LangChain"
   ]
  },
  {
   "cell_type": "code",
   "execution_count": 28,
   "id": "6bfdea6a",
   "metadata": {},
   "outputs": [],
   "source": [
    "model_instructions = \"\"\"\n",
    "Solve a question answering task with interleaving Thought, Action, Observation steps. Thought can reason about the current situation,\n",
    "Observation is understanding relevant information from an Action's output and Action can be one of three types:\n",
    " (1) <search>entity</search>, which searches the exact entity on Wikipedia and returns the first paragraph if it exists. If not, it\n",
    "     will return some similar entities to search and you can try to search the information from those topics.\n",
    " (2) <lookup>keyword</lookup>, which returns the next sentence containing keyword in the current context. This only does exact matches,\n",
    "     so keep your searches short.\n",
    " (3) <finish>answer</finish>, which returns the answer and finishes the task.\n",
    "\"\"\"\n",
    "\n",
    "example1 = \"\"\"Question\n",
    "Musician and satirist Allie Goertz wrote a song about the \"The Simpsons\" character Milhouse, who Matt Groening named after who?\n",
    "\n",
    "Thought 1\n",
    "The question simplifies to \"The Simpsons\" character Milhouse is named after who. I only need to search Milhouse and find who it is named after.\n",
    "\n",
    "Action 1\n",
    "<search>Milhouse</search>\n",
    "\n",
    "Observation 1\n",
    "Milhouse Mussolini Van Houten is a recurring character in the Fox animated television series The Simpsons voiced by Pamela Hayden and created by Matt Groening.\n",
    "\n",
    "Thought 2\n",
    "The paragraph does not tell who Milhouse is named after, maybe I can look up \"named after\".\n",
    "\n",
    "Action 2\n",
    "<lookup>named after</lookup>\n",
    "\n",
    "Observation 2\n",
    "Milhouse was named after U.S. president Richard Nixon, whose middle name was Milhous.\n",
    "\n",
    "Thought 3\n",
    "Milhouse was named after U.S. president Richard Nixon, so the answer is Richard Nixon.\n",
    "\n",
    "Action 3\n",
    "<finish>Richard Nixon</finish>\n",
    "\"\"\"\n",
    "\n",
    "example2 = \"\"\"Question\n",
    "What is the elevation range for the area that the eastern sector of the Colorado orogeny extends into?\n",
    "\n",
    "Thought 1\n",
    "I need to search Colorado orogeny, find the area that the eastern sector of the Colorado orogeny extends into, then find the elevation range of the area.\n",
    "\n",
    "Action 1\n",
    "<search>Colorado orogeny</search>\n",
    "\n",
    "Observation 1\n",
    "The Colorado orogeny was an episode of mountain building (an orogeny) in Colorado and surrounding areas.\n",
    "\n",
    "Thought 2\n",
    "It does not mention the eastern sector. So I need to look up eastern sector.\n",
    "\n",
    "Action 2\n",
    "<lookup>eastern sector</lookup>\n",
    "\n",
    "Observation 2\n",
    "The eastern sector extends into the High Plains and is called the Central Plains orogeny.\n",
    "\n",
    "Thought 3\n",
    "The eastern sector of Colorado orogeny extends into the High Plains. So I need to search High Plains and find its elevation range.\n",
    "\n",
    "Action 3\n",
    "<search>High Plains</search>\n",
    "\n",
    "Observation 3\n",
    "High Plains refers to one of two distinct land regions\n",
    "\n",
    "Thought 4\n",
    "I need to instead search High Plains (United States).\n",
    "\n",
    "Action 4\n",
    "<search>High Plains (United States)</search>\n",
    "\n",
    "Observation 4\n",
    "The High Plains are a subregion of the Great Plains. From east to west, the High Plains rise in elevation from around 1,800 to 7,000 ft (550 to 2,130m).\n",
    "\n",
    "Thought 5\n",
    "High Plains rise in elevation from around 1,800 to 7,000 ft, so the answer is 1,800 to 7,000 ft.\n",
    "\n",
    "Action 5\n",
    "<finish>1,800 to 7,000 ft</finish>\n",
    "\"\"\"\n"
   ]
  },
  {
   "cell_type": "code",
   "execution_count": 29,
   "id": "3dadd49f",
   "metadata": {},
   "outputs": [
    {
     "name": "stdout",
     "output_type": "stream",
     "text": [
      "Thought 1\n",
      "I need to find the transformers NLP paper and then find the youngest author listed on the paper.\n",
      "\n",
      "Action 1\n",
      "<search>transformers NLP paper</search>\n",
      "\n"
     ]
    }
   ],
   "source": [
    "question = \"\"\"Question\n",
    "Who was the youngest author listed on the transformers NLP paper?\n",
    "\"\"\"\n",
    "\n",
    "# You will perform the Action; so generate up to, but not including, the Observation.\n",
    "react_config = types.GenerateContentConfig(\n",
    "    stop_sequences=[\"\\nObservation\"],\n",
    "    system_instruction=model_instructions + example1 + example2,\n",
    ")\n",
    "\n",
    "# Create a chat that has the model instructions and examples pre-seeded.\n",
    "react_chat = client.chats.create(\n",
    "    model='gemini-2.0-flash',\n",
    "    config=react_config,\n",
    ")\n",
    "\n",
    "resp = react_chat.send_message(question)\n",
    "print(resp.text)\n"
   ]
  },
  {
   "cell_type": "code",
   "execution_count": 30,
   "id": "ece10949",
   "metadata": {},
   "outputs": [
    {
     "name": "stdout",
     "output_type": "stream",
     "text": [
      "Thought 2\n",
      "I have the authors of the paper: Ashish Vaswani, Noam Shazeer, Niki Parmar, Jakob Uszkoreit, Llion Jones, Aidan N. Gomez, Lukasz Kaiser, Illia Polosukhin. I need to search each of them to find their birth date, then compare the birth dates to find the youngest.\n",
      "\n",
      "Action 2\n",
      "<search>Ashish Vaswani</search>\n",
      "\n"
     ]
    }
   ],
   "source": [
    "observation = \"\"\"Observation 1\n",
    "[1706.03762] Attention Is All You Need\n",
    "Ashish Vaswani, Noam Shazeer, Niki Parmar, Jakob Uszkoreit, Llion Jones, Aidan N. Gomez, Lukasz Kaiser, Illia Polosukhin\n",
    "We propose a new simple network architecture, the Transformer, based solely on attention mechanisms, dispensing with recurrence and convolutions entirely.\n",
    "\"\"\"\n",
    "resp = react_chat.send_message(observation)\n",
    "print(resp.text)\n"
   ]
  },
  {
   "cell_type": "markdown",
   "id": "424a26af",
   "metadata": {},
   "source": [
    "Thinking mode"
   ]
  },
  {
   "cell_type": "markdown",
   "id": "4ae64372",
   "metadata": {},
   "source": [
    "Thinking mode\n",
    "The experiemental Gemini Flash 2.0 \"Thinking\" model has been trained to generate the \"thinking process\" the model goes through as part of its response. As a result, the Flash Thinking model is capable of stronger reasoning capabilities in its responses.\n",
    "\n",
    "Using a \"thinking mode\" model can provide you with high-quality responses without needing specialised prompting like the previous approaches. One reason this technique is effective is that you induce the model to generate relevant information (\"brainstorming\", or \"thoughts\") that is then used as part of the context in which the final response is generated."
   ]
  },
  {
   "cell_type": "code",
   "execution_count": 34,
   "id": "9c93ef0f",
   "metadata": {},
   "outputs": [
    {
     "data": {
      "text/markdown": [
       "Based on widely available information and common knowledge surrounding the creation of the \"Attention Is All You Need\" paper (the seminal Transformer paper from 2017), **Aidan N. Gomez** is widely believed to have been the youngest author listed.\n",
       "\n",
       "He was reportedly an intern at Google Brain while working on the project, and multiple sources discussing the paper's history mention his youth (often citing him being around 20 years old) at the time of publication compared to the other authors who were more senior researchers.\n",
       "\n",
       "It's important to note that researchers' exact birth dates are not typically public information, so this is based on reported accounts and context rather than official records."
      ],
      "text/plain": [
       "<IPython.core.display.Markdown object>"
      ]
     },
     "execution_count": 34,
     "metadata": {},
     "output_type": "execute_result"
    }
   ],
   "source": [
    "import io\n",
    "from IPython.display import Markdown, clear_output\n",
    "\n",
    "response = client.models.generate_content_stream(\n",
    "    model='gemini-2.0-flash-thinking-exp',\n",
    "    contents='Who was the youngest author listed on the transformers NLP paper?',\n",
    ")\n",
    "\n",
    "buf = io.StringIO()\n",
    "for chunk in response:\n",
    "    buf.write(chunk.text)\n",
    "    # Display the response as it is streamed\n",
    "    print(chunk.text, end='')\n",
    "\n",
    "# And then render the finished response as formatted markdown.\n",
    "clear_output()\n",
    "Markdown(buf.getvalue())"
   ]
  },
  {
   "cell_type": "markdown",
   "id": "459ac217",
   "metadata": {},
   "source": [
    "**Code prompting**\n",
    "Generating code\n",
    "The Gemini family of models can be used to generate code, configuration and scripts. Generating code can be helpful when learning to code, learning a new language or for rapidly generating a first draft.\n",
    "\n",
    "It's important to be aware that since LLMs can make mistakes, and can repeat training data, it's essential to read and test your code first, and comply with any relevant licenses.\n",
    "\n"
   ]
  },
  {
   "cell_type": "code",
   "execution_count": 35,
   "id": "6ba27bcb",
   "metadata": {},
   "outputs": [
    {
     "data": {
      "text/markdown": [
       "```python\n",
       "def factorial(n):\n",
       "  if n == 0:\n",
       "    return 1\n",
       "  else:\n",
       "    return n * factorial(n-1)\n",
       "```\n"
      ],
      "text/plain": [
       "<IPython.core.display.Markdown object>"
      ]
     },
     "execution_count": 35,
     "metadata": {},
     "output_type": "execute_result"
    }
   ],
   "source": [
    "code_prompt = \"\"\"\n",
    "Write a Python function to calculate the factorial of a number. No explanation, provide only the code.\n",
    "\"\"\"\n",
    "\n",
    "response = client.models.generate_content(\n",
    "    model='gemini-2.0-flash',\n",
    "    config=types.GenerateContentConfig(\n",
    "        temperature=1,\n",
    "        top_p=1,\n",
    "        max_output_tokens=1024,\n",
    "    ),\n",
    "    contents=code_prompt)\n",
    "\n",
    "Markdown(response.text)"
   ]
  },
  {
   "cell_type": "markdown",
   "id": "fc5c1261",
   "metadata": {},
   "source": [
    "**Code Execution**"
   ]
  },
  {
   "cell_type": "code",
   "execution_count": 36,
   "id": "03de5664",
   "metadata": {},
   "outputs": [
    {
     "name": "stdout",
     "output_type": "stream",
     "text": [
      "{'text': 'Okay, I can do that. First, I will identify the first 14 odd prime '\n",
      "         'numbers. Remember that a prime number is a number greater than 1 '\n",
      "         'that has only two factors: 1 and itself. Also, \"odd\" means it\\'s not '\n",
      "         'divisible by 2.\\n'\n",
      "         '\\n'\n",
      "         'Here are my thoughts on finding those numbers:\\n'\n",
      "         '\\n'\n",
      "         '*   The first few prime numbers are 2, 3, 5, 7, 11, 13, 17, 19...\\n'\n",
      "         \"*   I need to exclude 2 because it's even.\\n\"\n",
      "         \"*   I'll continue listing prime numbers until I have 14 odd prime \"\n",
      "         'numbers.\\n'\n",
      "         '\\n'\n",
      "         \"Now, let's generate the numbers and calculate their sum.\\n\"\n",
      "         '\\n'}\n",
      "-----\n",
      "{'executable_code': {'code': 'primes = [3, 5, 7, 11, 13, 17, 19, 23, 29, 31, '\n",
      "                             '37, 41, 43, 47]\\n'\n",
      "                             'sum_of_primes = sum(primes)\\n'\n",
      "                             \"print(f'{primes=}')\\n\"\n",
      "                             \"print(f'{sum_of_primes=}')\\n\",\n",
      "                     'language': 'PYTHON'}}\n",
      "-----\n",
      "{'code_execution_result': {'outcome': 'OUTCOME_OK',\n",
      "                           'output': 'primes=[3, 5, 7, 11, 13, 17, 19, 23, 29, '\n",
      "                                     '31, 37, 41, 43, 47]\\n'\n",
      "                                     'sum_of_primes=326\\n'}}\n",
      "-----\n",
      "{'text': 'The first 14 odd prime numbers are 3, 5, 7, 11, 13, 17, 19, 23, 29, '\n",
      "         '31, 37, 41, 43, and 47. Their sum is 326.\\n'}\n",
      "-----\n"
     ]
    }
   ],
   "source": [
    "from pprint import pprint\n",
    "\n",
    "config = types.GenerateContentConfig(\n",
    "    tools=[types.Tool(code_execution=types.ToolCodeExecution())],\n",
    ")\n",
    "\n",
    "code_exec_prompt = \"\"\"\n",
    "Generate the first 14 odd prime numbers, then calculate their sum.\n",
    "\"\"\"\n",
    "\n",
    "response = client.models.generate_content(\n",
    "    model='gemini-2.0-flash',\n",
    "    config=config,\n",
    "    contents=code_exec_prompt)\n",
    "\n",
    "for part in response.candidates[0].content.parts:\n",
    "  pprint(part.to_json_dict())\n",
    "  print(\"-----\")\n"
   ]
  },
  {
   "cell_type": "markdown",
   "id": "608ecfef",
   "metadata": {},
   "source": [
    "- This response contains multiple parts, including an opening and closing text part that represent regular responses, an executable_code part that represents generated code and a code_execution_result part that represents the results from running the generated code.\n",
    "\n",
    "You can explore them individually.\n",
    "\n"
   ]
  },
  {
   "cell_type": "code",
   "execution_count": 38,
   "id": "05a87817",
   "metadata": {},
   "outputs": [
    {
     "data": {
      "text/markdown": [
       "Okay, I can do that. First, I will identify the first 14 odd prime numbers. Remember that a prime number is a number greater than 1 that has only two factors: 1 and itself. Also, \"odd\" means it's not divisible by 2.\n",
       "\n",
       "Here are my thoughts on finding those numbers:\n",
       "\n",
       "*   The first few prime numbers are 2, 3, 5, 7, 11, 13, 17, 19...\n",
       "*   I need to exclude 2 because it's even.\n",
       "*   I'll continue listing prime numbers until I have 14 odd prime numbers.\n",
       "\n",
       "Now, let's generate the numbers and calculate their sum.\n",
       "\n"
      ],
      "text/plain": [
       "<IPython.core.display.Markdown object>"
      ]
     },
     "metadata": {},
     "output_type": "display_data"
    },
    {
     "data": {
      "text/markdown": [
       "```python\n",
       "primes = [3, 5, 7, 11, 13, 17, 19, 23, 29, 31, 37, 41, 43, 47]\n",
       "sum_of_primes = sum(primes)\n",
       "print(f'{primes=}')\n",
       "print(f'{sum_of_primes=}')\n",
       "\n",
       "```"
      ],
      "text/plain": [
       "<IPython.core.display.Markdown object>"
      ]
     },
     "metadata": {},
     "output_type": "display_data"
    },
    {
     "data": {
      "text/markdown": [
       "```\n",
       "primes=[3, 5, 7, 11, 13, 17, 19, 23, 29, 31, 37, 41, 43, 47]\n",
       "sum_of_primes=326\n",
       "\n",
       "```"
      ],
      "text/plain": [
       "<IPython.core.display.Markdown object>"
      ]
     },
     "metadata": {},
     "output_type": "display_data"
    },
    {
     "data": {
      "text/markdown": [
       "The first 14 odd prime numbers are 3, 5, 7, 11, 13, 17, 19, 23, 29, 31, 37, 41, 43, and 47. Their sum is 326.\n"
      ],
      "text/plain": [
       "<IPython.core.display.Markdown object>"
      ]
     },
     "metadata": {},
     "output_type": "display_data"
    }
   ],
   "source": [
    "for part in response.candidates[0].content.parts:\n",
    "    if part.text:\n",
    "        display(Markdown(part.text))\n",
    "    elif part.executable_code:\n",
    "        display(Markdown(f'```python\\n{part.executable_code.code}\\n```'))\n",
    "    elif part.code_execution_result:\n",
    "        if part.code_execution_result.outcome != 'OUTCOME_OK':\n",
    "            display(Markdown(f'## Status {part.code_execution_result.outcome}'))\n",
    "\n",
    "        display(Markdown(f'```\\n{part.code_execution_result.output}\\n```'))\n",
    "        "
   ]
  }
 ],
 "metadata": {
  "kernelspec": {
   "display_name": ".venv",
   "language": "python",
   "name": "python3"
  },
  "language_info": {
   "codemirror_mode": {
    "name": "ipython",
    "version": 3
   },
   "file_extension": ".py",
   "mimetype": "text/x-python",
   "name": "python",
   "nbconvert_exporter": "python",
   "pygments_lexer": "ipython3",
   "version": "3.12.6"
  }
 },
 "nbformat": 4,
 "nbformat_minor": 5
}
