{
  "nbformat": 4,
  "nbformat_minor": 0,
  "metadata": {
    "colab": {
      "provenance": []
    },
    "kernelspec": {
      "name": "python3",
      "display_name": "Python 3"
    },
    "language_info": {
      "name": "python"
    }
  },
  "cells": [
    {
      "cell_type": "markdown",
      "source": [
        "## Setup"
      ],
      "metadata": {
        "id": "_29HfTsNzFgP"
      }
    },
    {
      "cell_type": "code",
      "execution_count": 1,
      "metadata": {
        "colab": {
          "base_uri": "https://localhost:8080/"
        },
        "id": "by9pQ-zIyHQm",
        "outputId": "ae0c3901-eaa9-49b2-b227-af50350596c5"
      },
      "outputs": [
        {
          "output_type": "stream",
          "name": "stdout",
          "text": [
            "\u001b[?25l     \u001b[90m━━━━━━━━━━━━━━━━━━━━━━━━━━━━━━━━━━━━━━━━\u001b[0m \u001b[32m0.0/981.5 kB\u001b[0m \u001b[31m?\u001b[0m eta \u001b[36m-:--:--\u001b[0m\r\u001b[2K     \u001b[91m━━━━━━━━━━━━━━━━━━━━━━━━━━━━━━━━━━━━━\u001b[0m\u001b[91m╸\u001b[0m \u001b[32m972.8/981.5 kB\u001b[0m \u001b[31m35.9 MB/s\u001b[0m eta \u001b[36m0:00:01\u001b[0m\r\u001b[2K     \u001b[90m━━━━━━━━━━━━━━━━━━━━━━━━━━━━━━━━━━━━━━\u001b[0m \u001b[32m981.5/981.5 kB\u001b[0m \u001b[31m21.4 MB/s\u001b[0m eta \u001b[36m0:00:00\u001b[0m\n",
            "\u001b[?25h  Preparing metadata (setup.py) ... \u001b[?25l\u001b[?25hdone\n",
            "\u001b[2K     \u001b[90m━━━━━━━━━━━━━━━━━━━━━━━━━━━━━━━━━━━━━━━━\u001b[0m \u001b[32m67.3/67.3 kB\u001b[0m \u001b[31m4.1 MB/s\u001b[0m eta \u001b[36m0:00:00\u001b[0m\n",
            "\u001b[?25h  Installing build dependencies ... \u001b[?25l\u001b[?25hdone\n",
            "  Getting requirements to build wheel ... \u001b[?25l\u001b[?25hdone\n",
            "  Preparing metadata (pyproject.toml) ... \u001b[?25l\u001b[?25hdone\n",
            "\u001b[2K   \u001b[90m━━━━━━━━━━━━━━━━━━━━━━━━━━━━━━━━━━━━━━━━\u001b[0m \u001b[32m243.2/243.2 kB\u001b[0m \u001b[31m20.0 MB/s\u001b[0m eta \u001b[36m0:00:00\u001b[0m\n",
            "\u001b[2K   \u001b[90m━━━━━━━━━━━━━━━━━━━━━━━━━━━━━━━━━━━━━━━━\u001b[0m \u001b[32m1.2/1.2 MB\u001b[0m \u001b[31m48.9 MB/s\u001b[0m eta \u001b[36m0:00:00\u001b[0m\n",
            "\u001b[2K   \u001b[90m━━━━━━━━━━━━━━━━━━━━━━━━━━━━━━━━━━━━━━━━\u001b[0m \u001b[32m1.8/1.8 MB\u001b[0m \u001b[31m54.2 MB/s\u001b[0m eta \u001b[36m0:00:00\u001b[0m\n",
            "\u001b[2K   \u001b[90m━━━━━━━━━━━━━━━━━━━━━━━━━━━━━━━━━━━━━━━━\u001b[0m \u001b[32m18.3/18.3 MB\u001b[0m \u001b[31m61.8 MB/s\u001b[0m eta \u001b[36m0:00:00\u001b[0m\n",
            "\u001b[2K   \u001b[90m━━━━━━━━━━━━━━━━━━━━━━━━━━━━━━━━━━━━━━━━\u001b[0m \u001b[32m2.4/2.4 MB\u001b[0m \u001b[31m54.5 MB/s\u001b[0m eta \u001b[36m0:00:00\u001b[0m\n",
            "\u001b[2K   \u001b[90m━━━━━━━━━━━━━━━━━━━━━━━━━━━━━━━━━━━━━━━━\u001b[0m \u001b[32m94.9/94.9 kB\u001b[0m \u001b[31m7.4 MB/s\u001b[0m eta \u001b[36m0:00:00\u001b[0m\n",
            "\u001b[2K   \u001b[90m━━━━━━━━━━━━━━━━━━━━━━━━━━━━━━━━━━━━━━━━\u001b[0m \u001b[32m284.2/284.2 kB\u001b[0m \u001b[31m20.8 MB/s\u001b[0m eta \u001b[36m0:00:00\u001b[0m\n",
            "\u001b[2K   \u001b[90m━━━━━━━━━━━━━━━━━━━━━━━━━━━━━━━━━━━━━━━━\u001b[0m \u001b[32m2.0/2.0 MB\u001b[0m \u001b[31m54.2 MB/s\u001b[0m eta \u001b[36m0:00:00\u001b[0m\n",
            "\u001b[2K   \u001b[90m━━━━━━━━━━━━━━━━━━━━━━━━━━━━━━━━━━━━━━━━\u001b[0m \u001b[32m101.6/101.6 kB\u001b[0m \u001b[31m7.6 MB/s\u001b[0m eta \u001b[36m0:00:00\u001b[0m\n",
            "\u001b[2K   \u001b[90m━━━━━━━━━━━━━━━━━━━━━━━━━━━━━━━━━━━━━━━━\u001b[0m \u001b[32m16.0/16.0 MB\u001b[0m \u001b[31m65.9 MB/s\u001b[0m eta \u001b[36m0:00:00\u001b[0m\n",
            "\u001b[2K   \u001b[90m━━━━━━━━━━━━━━━━━━━━━━━━━━━━━━━━━━━━━━━━\u001b[0m \u001b[32m55.9/55.9 kB\u001b[0m \u001b[31m3.3 MB/s\u001b[0m eta \u001b[36m0:00:00\u001b[0m\n",
            "\u001b[2K   \u001b[90m━━━━━━━━━━━━━━━━━━━━━━━━━━━━━━━━━━━━━━━━\u001b[0m \u001b[32m89.1/89.1 kB\u001b[0m \u001b[31m6.0 MB/s\u001b[0m eta \u001b[36m0:00:00\u001b[0m\n",
            "\u001b[2K   \u001b[90m━━━━━━━━━━━━━━━━━━━━━━━━━━━━━━━━━━━━━━━━\u001b[0m \u001b[32m62.5/62.5 kB\u001b[0m \u001b[31m4.5 MB/s\u001b[0m eta \u001b[36m0:00:00\u001b[0m\n",
            "\u001b[2K   \u001b[90m━━━━━━━━━━━━━━━━━━━━━━━━━━━━━━━━━━━━━━━━\u001b[0m \u001b[32m590.6/590.6 kB\u001b[0m \u001b[31m30.1 MB/s\u001b[0m eta \u001b[36m0:00:00\u001b[0m\n",
            "\u001b[2K   \u001b[90m━━━━━━━━━━━━━━━━━━━━━━━━━━━━━━━━━━━━━━━━\u001b[0m \u001b[32m167.6/167.6 kB\u001b[0m \u001b[31m12.1 MB/s\u001b[0m eta \u001b[36m0:00:00\u001b[0m\n",
            "\u001b[2K   \u001b[90m━━━━━━━━━━━━━━━━━━━━━━━━━━━━━━━━━━━━━━━━\u001b[0m \u001b[32m3.1/3.1 MB\u001b[0m \u001b[31m59.1 MB/s\u001b[0m eta \u001b[36m0:00:00\u001b[0m\n",
            "\u001b[2K   \u001b[90m━━━━━━━━━━━━━━━━━━━━━━━━━━━━━━━━━━━━━━━━\u001b[0m \u001b[32m189.2/189.2 kB\u001b[0m \u001b[31m12.8 MB/s\u001b[0m eta \u001b[36m0:00:00\u001b[0m\n",
            "\u001b[2K   \u001b[90m━━━━━━━━━━━━━━━━━━━━━━━━━━━━━━━━━━━━━━━━\u001b[0m \u001b[32m459.8/459.8 kB\u001b[0m \u001b[31m25.5 MB/s\u001b[0m eta \u001b[36m0:00:00\u001b[0m\n",
            "\u001b[2K   \u001b[90m━━━━━━━━━━━━━━━━━━━━━━━━━━━━━━━━━━━━━━━━\u001b[0m \u001b[32m50.9/50.9 kB\u001b[0m \u001b[31m2.8 MB/s\u001b[0m eta \u001b[36m0:00:00\u001b[0m\n",
            "\u001b[2K   \u001b[90m━━━━━━━━━━━━━━━━━━━━━━━━━━━━━━━━━━━━━━━━\u001b[0m \u001b[32m302.3/302.3 kB\u001b[0m \u001b[31m21.3 MB/s\u001b[0m eta \u001b[36m0:00:00\u001b[0m\n",
            "\u001b[2K   \u001b[90m━━━━━━━━━━━━━━━━━━━━━━━━━━━━━━━━━━━━━━━━\u001b[0m \u001b[32m71.5/71.5 kB\u001b[0m \u001b[31m5.5 MB/s\u001b[0m eta \u001b[36m0:00:00\u001b[0m\n",
            "\u001b[2K   \u001b[90m━━━━━━━━━━━━━━━━━━━━━━━━━━━━━━━━━━━━━━━━\u001b[0m \u001b[32m4.0/4.0 MB\u001b[0m \u001b[31m64.7 MB/s\u001b[0m eta \u001b[36m0:00:00\u001b[0m\n",
            "\u001b[2K   \u001b[90m━━━━━━━━━━━━━━━━━━━━━━━━━━━━━━━━━━━━━━━━\u001b[0m \u001b[32m454.8/454.8 kB\u001b[0m \u001b[31m22.5 MB/s\u001b[0m eta \u001b[36m0:00:00\u001b[0m\n",
            "\u001b[2K   \u001b[90m━━━━━━━━━━━━━━━━━━━━━━━━━━━━━━━━━━━━━━━━\u001b[0m \u001b[32m46.0/46.0 kB\u001b[0m \u001b[31m2.9 MB/s\u001b[0m eta \u001b[36m0:00:00\u001b[0m\n",
            "\u001b[2K   \u001b[90m━━━━━━━━━━━━━━━━━━━━━━━━━━━━━━━━━━━━━━━━\u001b[0m \u001b[32m114.6/114.6 kB\u001b[0m \u001b[31m7.2 MB/s\u001b[0m eta \u001b[36m0:00:00\u001b[0m\n",
            "\u001b[2K   \u001b[90m━━━━━━━━━━━━━━━━━━━━━━━━━━━━━━━━━━━━━━━━\u001b[0m \u001b[32m86.8/86.8 kB\u001b[0m \u001b[31m5.7 MB/s\u001b[0m eta \u001b[36m0:00:00\u001b[0m\n",
            "\u001b[?25h  Building wheel for pypika (pyproject.toml) ... \u001b[?25l\u001b[?25hdone\n",
            "  Building wheel for langdetect (setup.py) ... \u001b[?25l\u001b[?25hdone\n",
            "\u001b[31mERROR: pip's dependency resolver does not currently take into account all the packages that are installed. This behaviour is the source of the following dependency conflicts.\n",
            "bigframes 1.42.0 requires rich<14,>=12.4.4, but you have rich 14.0.0 which is incompatible.\u001b[0m\u001b[31m\n",
            "\u001b[0m"
          ]
        }
      ],
      "source": [
        "%pip install -Uqqq rich openai tiktoken wandb langchain unstructured tabulate pdf2image chromadb"
      ]
    },
    {
      "cell_type": "code",
      "source": [
        "pip install -U langchain-community"
      ],
      "metadata": {
        "colab": {
          "base_uri": "https://localhost:8080/"
        },
        "id": "TFyVYW7b4fjd",
        "outputId": "dcdae9ce-ec61-4e85-8698-59a4d0dd7850"
      },
      "execution_count": 7,
      "outputs": [
        {
          "output_type": "stream",
          "name": "stdout",
          "text": [
            "Collecting langchain-community\n",
            "  Downloading langchain_community-0.3.21-py3-none-any.whl.metadata (2.4 kB)\n",
            "Requirement already satisfied: langchain-core<1.0.0,>=0.3.51 in /usr/local/lib/python3.11/dist-packages (from langchain-community) (0.3.52)\n",
            "Requirement already satisfied: langchain<1.0.0,>=0.3.23 in /usr/local/lib/python3.11/dist-packages (from langchain-community) (0.3.23)\n",
            "Requirement already satisfied: SQLAlchemy<3,>=1.4 in /usr/local/lib/python3.11/dist-packages (from langchain-community) (2.0.40)\n",
            "Requirement already satisfied: requests<3,>=2 in /usr/local/lib/python3.11/dist-packages (from langchain-community) (2.32.3)\n",
            "Requirement already satisfied: PyYAML>=5.3 in /usr/local/lib/python3.11/dist-packages (from langchain-community) (6.0.2)\n",
            "Requirement already satisfied: aiohttp<4.0.0,>=3.8.3 in /usr/local/lib/python3.11/dist-packages (from langchain-community) (3.11.15)\n",
            "Requirement already satisfied: tenacity!=8.4.0,<10,>=8.1.0 in /usr/local/lib/python3.11/dist-packages (from langchain-community) (9.1.2)\n",
            "Requirement already satisfied: dataclasses-json<0.7,>=0.5.7 in /usr/local/lib/python3.11/dist-packages (from langchain-community) (0.6.7)\n",
            "Collecting pydantic-settings<3.0.0,>=2.4.0 (from langchain-community)\n",
            "  Downloading pydantic_settings-2.9.1-py3-none-any.whl.metadata (3.8 kB)\n",
            "Requirement already satisfied: langsmith<0.4,>=0.1.125 in /usr/local/lib/python3.11/dist-packages (from langchain-community) (0.3.31)\n",
            "Collecting httpx-sse<1.0.0,>=0.4.0 (from langchain-community)\n",
            "  Downloading httpx_sse-0.4.0-py3-none-any.whl.metadata (9.0 kB)\n",
            "Requirement already satisfied: numpy<3,>=1.26.2 in /usr/local/lib/python3.11/dist-packages (from langchain-community) (2.0.2)\n",
            "Requirement already satisfied: aiohappyeyeballs>=2.3.0 in /usr/local/lib/python3.11/dist-packages (from aiohttp<4.0.0,>=3.8.3->langchain-community) (2.6.1)\n",
            "Requirement already satisfied: aiosignal>=1.1.2 in /usr/local/lib/python3.11/dist-packages (from aiohttp<4.0.0,>=3.8.3->langchain-community) (1.3.2)\n",
            "Requirement already satisfied: attrs>=17.3.0 in /usr/local/lib/python3.11/dist-packages (from aiohttp<4.0.0,>=3.8.3->langchain-community) (25.3.0)\n",
            "Requirement already satisfied: frozenlist>=1.1.1 in /usr/local/lib/python3.11/dist-packages (from aiohttp<4.0.0,>=3.8.3->langchain-community) (1.5.0)\n",
            "Requirement already satisfied: multidict<7.0,>=4.5 in /usr/local/lib/python3.11/dist-packages (from aiohttp<4.0.0,>=3.8.3->langchain-community) (6.4.3)\n",
            "Requirement already satisfied: propcache>=0.2.0 in /usr/local/lib/python3.11/dist-packages (from aiohttp<4.0.0,>=3.8.3->langchain-community) (0.3.1)\n",
            "Requirement already satisfied: yarl<2.0,>=1.17.0 in /usr/local/lib/python3.11/dist-packages (from aiohttp<4.0.0,>=3.8.3->langchain-community) (1.19.0)\n",
            "Requirement already satisfied: marshmallow<4.0.0,>=3.18.0 in /usr/local/lib/python3.11/dist-packages (from dataclasses-json<0.7,>=0.5.7->langchain-community) (3.26.1)\n",
            "Requirement already satisfied: typing-inspect<1,>=0.4.0 in /usr/local/lib/python3.11/dist-packages (from dataclasses-json<0.7,>=0.5.7->langchain-community) (0.9.0)\n",
            "Requirement already satisfied: langchain-text-splitters<1.0.0,>=0.3.8 in /usr/local/lib/python3.11/dist-packages (from langchain<1.0.0,>=0.3.23->langchain-community) (0.3.8)\n",
            "Requirement already satisfied: pydantic<3.0.0,>=2.7.4 in /usr/local/lib/python3.11/dist-packages (from langchain<1.0.0,>=0.3.23->langchain-community) (2.11.3)\n",
            "Requirement already satisfied: jsonpatch<2.0,>=1.33 in /usr/local/lib/python3.11/dist-packages (from langchain-core<1.0.0,>=0.3.51->langchain-community) (1.33)\n",
            "Requirement already satisfied: packaging<25,>=23.2 in /usr/local/lib/python3.11/dist-packages (from langchain-core<1.0.0,>=0.3.51->langchain-community) (24.2)\n",
            "Requirement already satisfied: typing-extensions>=4.7 in /usr/local/lib/python3.11/dist-packages (from langchain-core<1.0.0,>=0.3.51->langchain-community) (4.13.2)\n",
            "Requirement already satisfied: httpx<1,>=0.23.0 in /usr/local/lib/python3.11/dist-packages (from langsmith<0.4,>=0.1.125->langchain-community) (0.28.1)\n",
            "Requirement already satisfied: orjson<4.0.0,>=3.9.14 in /usr/local/lib/python3.11/dist-packages (from langsmith<0.4,>=0.1.125->langchain-community) (3.10.16)\n",
            "Requirement already satisfied: requests-toolbelt<2.0.0,>=1.0.0 in /usr/local/lib/python3.11/dist-packages (from langsmith<0.4,>=0.1.125->langchain-community) (1.0.0)\n",
            "Requirement already satisfied: zstandard<0.24.0,>=0.23.0 in /usr/local/lib/python3.11/dist-packages (from langsmith<0.4,>=0.1.125->langchain-community) (0.23.0)\n",
            "Requirement already satisfied: python-dotenv>=0.21.0 in /usr/local/lib/python3.11/dist-packages (from pydantic-settings<3.0.0,>=2.4.0->langchain-community) (1.1.0)\n",
            "Requirement already satisfied: typing-inspection>=0.4.0 in /usr/local/lib/python3.11/dist-packages (from pydantic-settings<3.0.0,>=2.4.0->langchain-community) (0.4.0)\n",
            "Requirement already satisfied: charset-normalizer<4,>=2 in /usr/local/lib/python3.11/dist-packages (from requests<3,>=2->langchain-community) (3.4.1)\n",
            "Requirement already satisfied: idna<4,>=2.5 in /usr/local/lib/python3.11/dist-packages (from requests<3,>=2->langchain-community) (3.10)\n",
            "Requirement already satisfied: urllib3<3,>=1.21.1 in /usr/local/lib/python3.11/dist-packages (from requests<3,>=2->langchain-community) (2.3.0)\n",
            "Requirement already satisfied: certifi>=2017.4.17 in /usr/local/lib/python3.11/dist-packages (from requests<3,>=2->langchain-community) (2025.1.31)\n",
            "Requirement already satisfied: greenlet>=1 in /usr/local/lib/python3.11/dist-packages (from SQLAlchemy<3,>=1.4->langchain-community) (3.2.0)\n",
            "Requirement already satisfied: anyio in /usr/local/lib/python3.11/dist-packages (from httpx<1,>=0.23.0->langsmith<0.4,>=0.1.125->langchain-community) (4.9.0)\n",
            "Requirement already satisfied: httpcore==1.* in /usr/local/lib/python3.11/dist-packages (from httpx<1,>=0.23.0->langsmith<0.4,>=0.1.125->langchain-community) (1.0.8)\n",
            "Requirement already satisfied: h11<0.15,>=0.13 in /usr/local/lib/python3.11/dist-packages (from httpcore==1.*->httpx<1,>=0.23.0->langsmith<0.4,>=0.1.125->langchain-community) (0.14.0)\n",
            "Requirement already satisfied: jsonpointer>=1.9 in /usr/local/lib/python3.11/dist-packages (from jsonpatch<2.0,>=1.33->langchain-core<1.0.0,>=0.3.51->langchain-community) (3.0.0)\n",
            "Requirement already satisfied: annotated-types>=0.6.0 in /usr/local/lib/python3.11/dist-packages (from pydantic<3.0.0,>=2.7.4->langchain<1.0.0,>=0.3.23->langchain-community) (0.7.0)\n",
            "Requirement already satisfied: pydantic-core==2.33.1 in /usr/local/lib/python3.11/dist-packages (from pydantic<3.0.0,>=2.7.4->langchain<1.0.0,>=0.3.23->langchain-community) (2.33.1)\n",
            "Requirement already satisfied: mypy-extensions>=0.3.0 in /usr/local/lib/python3.11/dist-packages (from typing-inspect<1,>=0.4.0->dataclasses-json<0.7,>=0.5.7->langchain-community) (1.0.0)\n",
            "Requirement already satisfied: sniffio>=1.1 in /usr/local/lib/python3.11/dist-packages (from anyio->httpx<1,>=0.23.0->langsmith<0.4,>=0.1.125->langchain-community) (1.3.1)\n",
            "Downloading langchain_community-0.3.21-py3-none-any.whl (2.5 MB)\n",
            "\u001b[2K   \u001b[90m━━━━━━━━━━━━━━━━━━━━━━━━━━━━━━━━━━━━━━━━\u001b[0m \u001b[32m2.5/2.5 MB\u001b[0m \u001b[31m40.4 MB/s\u001b[0m eta \u001b[36m0:00:00\u001b[0m\n",
            "\u001b[?25hDownloading httpx_sse-0.4.0-py3-none-any.whl (7.8 kB)\n",
            "Downloading pydantic_settings-2.9.1-py3-none-any.whl (44 kB)\n",
            "\u001b[2K   \u001b[90m━━━━━━━━━━━━━━━━━━━━━━━━━━━━━━━━━━━━━━━━\u001b[0m \u001b[32m44.4/44.4 kB\u001b[0m \u001b[31m3.6 MB/s\u001b[0m eta \u001b[36m0:00:00\u001b[0m\n",
            "\u001b[?25hInstalling collected packages: httpx-sse, pydantic-settings, langchain-community\n",
            "Successfully installed httpx-sse-0.4.0 langchain-community-0.3.21 pydantic-settings-2.9.1\n"
          ]
        }
      ]
    },
    {
      "cell_type": "code",
      "source": [
        "import os\n",
        "from pathlib import Path\n",
        "import tiktoken\n",
        "from getpass import getpass\n",
        "from rich.markdown import Markdown\n",
        "from langchain.chains.qa_with_sources import load_qa_with_sources_chain"
      ],
      "metadata": {
        "id": "oZashTM6zEi2"
      },
      "execution_count": 25,
      "outputs": []
    },
    {
      "cell_type": "code",
      "source": [
        "# get an open ai key\n",
        "if os.getenv(\"OPENAI_API_KEY\") is None:\n",
        "  if any(['VSCODE' in x for x in os.environ.keys()]):\n",
        "    print('Please enter password in the VS Code prompt at the top of your VS Code window!')\n",
        "  os.environ[\"OPENAI_API_KEY\"] = getpass(\"\")\n",
        "\n",
        "assert os.getenv(\"OPENAI_API_KEY\", \"\").startswith(\"sk-\"), \"This doesn't look like a valid OpenAI API key\"\n",
        "print(\"OpenAI API key configured\")"
      ],
      "metadata": {
        "colab": {
          "base_uri": "https://localhost:8080/"
        },
        "id": "szB5OwYO2bcB",
        "outputId": "8be46616-2cc6-45a6-bd1d-bff8ae711cb1"
      },
      "execution_count": 4,
      "outputs": [
        {
          "output_type": "stream",
          "name": "stdout",
          "text": [
            "··········\n",
            "OpenAI API key configured\n"
          ]
        }
      ]
    },
    {
      "cell_type": "code",
      "source": [
        "# Langchain\n",
        "# we need a single line of code to start tracing langchain with W&B\n",
        "os.environ[\"LANGCHAIN_WANDB_TRACING\"] = \"true\"\n",
        "os.environ[\"WANDB_PROJECT\"] = \"maven-article\""
      ],
      "metadata": {
        "id": "GoBm1-2j2x_T"
      },
      "execution_count": 5,
      "outputs": []
    },
    {
      "cell_type": "code",
      "source": [
        "# Parsing Documents\n",
        "model_name = 'text-davinci-003'\n",
        "\n",
        "from langchain.document_loaders import DirectoryLoader\n",
        "\n",
        "def find_md_files(directory):\n",
        "    'find all markdown files in a directory'\n",
        "    d1 = DirectoryLoader(directory, glob=\"**/*.txt\")\n",
        "    return d1.load()\n",
        "\n",
        "documents = find_md_files('./')\n",
        "len(documents)"
      ],
      "metadata": {
        "colab": {
          "base_uri": "https://localhost:8080/"
        },
        "id": "xnMIhbRQ3q2-",
        "outputId": "a48e3d17-692d-4d2d-b01d-f89616c2895d"
      },
      "execution_count": 17,
      "outputs": [
        {
          "output_type": "execute_result",
          "data": {
            "text/plain": [
              "1"
            ]
          },
          "metadata": {},
          "execution_count": 17
        }
      ]
    },
    {
      "cell_type": "code",
      "source": [
        "documents"
      ],
      "metadata": {
        "colab": {
          "base_uri": "https://localhost:8080/"
        },
        "id": "v1CenNQo4YaF",
        "outputId": "e8625377-23f3-4902-ee78-cc4be81b4eb7"
      },
      "execution_count": 18,
      "outputs": [
        {
          "output_type": "execute_result",
          "data": {
            "text/plain": [
              "[Document(metadata={'source': 'sample_data/Open AI in Education, the Responsib.txt'}, page_content='Open AI in Education, the Responsible and Ethical Use of ChatGPT Towards\\n\\nLifelong Learning\\n\\nDavid Mhlanga\\n\\nUniversity of Johannesburg, South Africa\\n\\nCollege of Business and Economics\\n\\nPO Box 524, Auckland Park, 2006\\n\\ndmhlanga67@gmail.com\\n\\nAbstract\\n\\nSignificant changes have been brought about in society, the economy, and the environment as a\\n\\nresult of the quick development of technology and the interconnection of the world. Artificial\\n\\nintelligence has advanced significantly in recent years, which has sparked the creation of ground\\n\\nbreaking technologies like Open AI\\'s ChatGPT. Modern technology like the ChatGPT language\\n\\nmodel has the potential to revolutionize the educational landscape. This article\\'s goals are to\\n\\npresent a thorough analysis of the responsible and ethical usage of ChatGPT in education, as well\\n\\nas to encourage further study and debate on this important subject. The study found that the use\\n\\nof ChatGPT in education requires respect for privacy, fairness and non-discrimination,\\n\\ntransparency in the use of ChatGPT, and a few other factors that were included in the paper. To\\n\\nsustain ethics and accountability in the global education sector, it is advised in this study that all\\n\\nthese recommendations be carried out.\\n\\nKeywords: ChatGPT, Education, Ethical, Responsible\\n\\nIntroduction\\n\\nThe rapid pace of technological growth and global interconnectedness has brought about\\n\\nsubstantial changes in society, the economy, and the environment. These changes are collectively\\n\\nreferred to as megatrends. As the 21st century progresses, these megatrends are expected to\\n\\ncontinue (Haluza & Jungwirth 2023). The field of artificial intelligence has made significant strides\\n\\nin recent years, which has led to the development of innovative technologies such as Open AI\\'s\\n\\nChatGPT. The ChatGPT language model is cutting-edge technology that has the potential to bring\\n\\nabout a sea change in the field of education. As the implementation of ChatGPT in educational\\n\\nsettings becomes more widespread, it must be done so following principles of responsibility and\\n\\nethics. To this day, ChatGPT is the most advanced chatbot that has ever been created. In contrast\\n\\nto previous chatbots, it is capable of producing outstanding text within a matter of seconds, and\\n\\nit has generated much buzz and doomsday predictions regarding student assessment in higher\\n\\neducation as well as a variety of other issues (Rudolph et al., 2023). ChatGPT is a cutting-edge\\n\\nlanguage model that is a modification of OpenAI\\'s Generative Pretrained Transformer (GPT)\\n\\nlanguage model. Its purpose is to generate text that is indistinguishable from content that was\\n\\nauthored by people. It can hold conversations with users in a way that is deceptively simple and\\n\\neasy to understand.\\n\\nThroughout the development of educational technology, many different technological\\n\\nadvancements have been envisioned as the end of traditional education in its current form. This\\n\\nElectronic copy available at: https://ssrn.com/abstract=4354422\\n\\nhas frequently been the result of a euphoric and rather illogical love of technology (Rudolph et\\n\\nal. 2023). Since the beginning of the 20th century, many forms of media such as film, radio,\\n\\ntelevision, computers, the Internet, mobile technologies, social media, and virtual, augmented,\\n\\nmixed, and extended reality have been hailed as having the potential to revolutionize the\\n\\neducational system. Nevertheless, throughout the development of educational technology, there\\n\\nwas frequently insufficient consideration given to how instructors deployed such resources and\\n\\nhow students interacted with them. Even though machines have significantly altered many aspects\\n\\nof daily life in the 20th century, a visitor from the 19th century would feel quite at home in a\\n\\nmodern classroom. This statement is still relevant because the traditional learning environment\\n\\nin physical classrooms has remained fundamentally unchanged (Ferster 2014).\\n\\nStudents continue to place a high value on credentials, which educational institutions have a\\n\\nmonopoly on. These credentials include how students are taught as well as research and other\\n\\nforms of educational activity. Although there is a long history of viewing technology as a panacea,\\n\\nhopes for radical innovation in education are often exaggerated. This is because it turned out that\\n\\ncredentials continue to be highly valued by students. Having said that, the fact that ChatGPT can\\n\\ncomprehend and react to human language has made it an extremely useful tool for teachers,\\n\\nstudents, and other types of learners. However, because ChatGPT is becoming more widely used\\n\\nin educational settings, its application needs to be governed by principles of responsibility and\\n\\nethics. Responsible and ethical use of artificial intelligence in education goes beyond ensuring\\n\\ntechnical accuracy; it involves considering the potential social and ethical implications of its\\n\\nimplementation, such as concerns about personal privacy and bias, as well as the role that AI will\\n\\nplay in forming the educational landscape of the future.\\n\\nThe ethical and responsible use of ChatGPT in educational settings is a complicated and multi\\n\\ndimensional issue that calls for an approach that is nuanced and interdisciplinary. The necessity\\n\\nfor the responsible and ethical use of artificial intelligence in education has been brought to light\\n\\nby recent research. The studies that have been conducted on this topic have focused on topics\\n\\nsuch as privacy, bias, and the potential for AI to contribute to the digital divide (Garrett et al.\\n\\n2020, Borenstein & Howard 2021, Holmes et al. 2021, Nguyen et al. 2022). Other academics\\n\\nhave also stressed the significance of taking into account the role that AI will play in determining\\n\\nthe course of the future of education, as well as the requirement for multidisciplinary approaches\\n\\nto the ethical and responsible application of AI in educational settings (Hoppe et al. 2003, Paulus\\n\\n& Langford 2022, Carvalho et al. 2022). The previous research will serve as a foundation for the\\n\\ncurrent investigation, which will expand upon previous findings to focus on the ethical and\\n\\nresponsible application of ChatGPT in educational settings. This study is an investigation of the\\n\\nethical and responsible use of ChatGPT in educational settings, with a particular emphasis on the\\n\\nfacilitation of lifelong learning. In this session, we will talk about the different ways that ChatGPT\\n\\ncan be used in education, as well as the opportunities and difficulties that are presented by using\\n\\nit. The purpose of this article is to provide a comprehensive review of the responsible and ethical\\n\\nuse of ChatGPT in education, as well as to promote more research and discussion on this vital\\n\\ntopic.\\n\\nMaterials and Methods\\n\\nElectronic copy available at: https://ssrn.com/abstract=4354422\\n\\nThis paper employs the crucial document analytical method, wherein individual documents (news\\n\\noutlets and blog posts) and physical evidence (published journal articles and books) have been\\n\\nreviewed and analyzed, to assess Open AI in Education, the Responsible and Ethical Use of\\n\\nChatGPT Towards Lifelong Learning.  The first thing the author did was perform a global search\\n\\nfor papers that explored the meaning of Open AI and those that investigated the principles of\\n\\nresponsible use of AI in education, and ethics of AI in education. It was found that there was a\\n\\ntotal of 55 articles among the three most significant academic websites, Web of Science, Google\\n\\nScholar, and ResearchGate. After that, another round of filtering was done on the articles to\\n\\nisolate the ones that discussed the ethics of AI in education, and the responsible use of Chat\\n\\nGPT. In the end, a total of 23 publications were selected to include in the study and do the\\n\\nsubsequent analysis (see figure 2). These specific articles were the key sources of information\\n\\nthat were used to create the findings that were supplied and spoken about in this research.\\n\\nFollowing the completion of the investigation, a procedure known as thematic data analysis was\\n\\nperformed on the many problems that were discovered to categorize them into themes. The\\n\\nprocedure that was utilized to get the articles posted on a variety of reliable websites is broken\\n\\ndown into steps and depicted in the diagram that can be found below in Figure 1.\\n\\n16%\\n\\n14%\\n\\n56%\\n\\n14%\\n\\nFigure 1: Articles used from Various Sites\\n\\nGoogle Scholar\\n\\nScopus\\n\\nWeb of Science\\n\\nResearch Gate\\n\\nFigure 1 above is outlining the distribution of articles across various sites like google scholar,\\n\\nScopus, and research gate. Figure 2 explains the process followed to include and exclude other\\n\\narticles.\\n\\nElectronic copy available at: https://ssrn.com/abstract=4354422\\n\\nSource: Author’s Analysis\\n\\nFigure 2 outlines the steps that were used to determine which articles to include and which to\\n\\nomit. It details the websites, such as Google Scholar, Web of Science, and ResearchGate, from\\n\\nwhich the original documents were collected, as well as the screenings that were performed\\n\\ninitially and ultimately.\\n\\nTable 1: Selected Articles Consulted in the Study\\n\\nStudy Focus Year\\n\\nRodgers, W., Murray, J. M.,\\n\\nStefanidis, A., Degbey, W. Y., &\\n\\nTarba, S. Y.\\n\\nAn artificial intelligence algorithmic\\n\\napproach to ethical decision-making\\n\\nin human resource management\\n\\nprocesses.\\n\\n2023\\n\\nThurzo, A., Strunga, M., Urban, R.,\\n\\nSurovková, J., & Afrashtehfar, K. I.\\n\\nImpact of Artificial Intelligence on\\n\\nDental Education: A Review and\\n\\nGuide for Curriculum Update.\\n\\n2023\\n\\n55\\n\\nExcluded\\n\\n15\\n\\nExcluded\\n\\nArticles\\n\\n17\\n\\nQualitative\\n\\nAnalysis\\n\\n23\\n\\nGoogle\\n\\nScholar, Web\\n\\nof Science,\\n\\nResearchGate\\n\\nInitial\\n\\nScreening,\\n\\nirrelevant,\\n\\nincomplete\\n\\nFinal\\n\\nScreening\\n\\nFocusing on\\n\\nthe key\\n\\nwords,\\n\\nrelevance,\\n\\nElectronic copy available at: https://ssrn.com/abstract=4354422\\n\\nHaluza, D., & Jungwirth, D.\\n\\nRudolph, J., Tan, S., & Tan, S.\\n\\nArtificial Intelligence and ten societal\\n\\nmegatrends: a GPT-3 case study\\n\\nChatGPT: Bullshit spewer or the end\\n\\nof traditional assessments in higher\\n\\neducation?.\\n\\nQadir, J.\\n\\n2023\\n\\nEngineering Education in the Era of\\n\\nChatGPT\\n\\nPaulus, M. J., & Langford, M. D.\\n\\n(Eds.).\\n\\n2022\\n\\nAI, Faith, and the Future: An\\n\\nInterdisciplinary Approach.\\n\\nMyskja, B. K.\\n\\n2022\\n\\nTechnology and Trust–A Kantian\\n\\nApproach. In Technology Ethics\\n\\nMhlanga, D.\\n\\n2023\\n\\nRethinking Education in the Industry\\n\\n4.0 in Africa, the Effective\\n\\nManagement and Leadership of\\n\\nEducation Post-COVID-19 Pandemic\\n\\nTowards Digital Transformation\\n\\n2022\\n\\nThe documents that were selected to be included in the investigation are listed in the table above.\\n\\nThe table only represents a small sample of the total number of publications that were taken into\\n\\naccount for the research.\\n\\nA Brief History of OpenAI and ChatGTP\\n\\nOpenAI is a research laboratory for artificial intelligence that was founded in San Francisco to\\n\\npromote and create \"friendly AI\" for the benefit of humans. When the company was first\\n\\nlaunched, prominent figures in the technology industry like as Elon Musk, Reid Hoffman, Peter\\n\\nThiel, Greg Brockman, and Sam Altman were among those responsible for launching it. While\\n\\nAltman is the Chief Executive Officer of OpenAI now, Brockman acts as the company\\'s President.\\n\\nIt is stated in the mission statement for OpenAI that the organization\\'s ultimate goal is to create\\n\\n\"artificial general intelligence.\" Artificial intelligence has the potential to significantly improve many\\n\\ndifferent industries, and the founders of OpenAI believe that it should be developed safely and\\n\\nbeneficially, with open-source software and advanced AI tools being available without restrictions\\n\\nbased on intellectual property. In addition, they believe that artificial intelligence should be\\n\\ndeveloped in a manner that will allow it to significantly improve many different industries. OpenAI\\n\\nbecame a for-profit company in 2019, after having previously operated as a nonprofit organization.\\n\\nAs a part of this move, Microsoft made an investment of one billion dollars in OpenAI, and\\n\\nOpenAI licensed its most recent language model, GPT-3, solely to Microsoft. Both of these events\\n\\ntook place in 2018. Since that time, Microsoft has increased its prior investment in OpenAI by an\\n\\nadditional $2 billion, and the corporation is currently in discussions to increase that investment\\n\\nby an additional $10 billion. The shift in OpenAI\\'s approach to finance has cast questions on the\\n\\norganization\\'s commitment to democratizing artificial intelligence as well as its openness and\\n\\ntransparency throughout the process. The most cutting-edge and potent language model that has\\n\\never been produced is GPT-3, which was made available to the public in the year 2020. It does\\n\\nthis by employing a technique known as deep learning to produce text.\\n\\nChat GPT The Meaning\\n\\nElectronic copy available at: https://ssrn.com/abstract=4354422\\n\\nThe ChatGPT language model was developed by OpenAI, which is widely recognized as one of\\n\\nthe most influential organizations in the field of artificial intelligence research. The architecture\\n\\nknown as GPT (Generative Pretrained Transformer), which was initially introduced by OpenAI\\n\\nin 2018, serves as the basis for this system. The first version of the GPT model was trained on a\\n\\nvast amount of text data obtained from the internet by utilizing a deep learning technique known\\n\\nas transformers. This training took place on data acquired from the internet. It was able to\\n\\ngenerate text that was almost indistinguishable from writing done by humans as a result of this.\\n\\nOpenAI decided to create GPT-2, which is a substantially improved and more resilient iteration\\n\\nof the GPT model, because of the tremendous success that the first version of the GPT model\\n\\nexperienced. Despite this, OpenAI has decided not to make the full version of GPT-2 available\\n\\nto the public because of worries surrounding the model\\'s potential for inappropriate use. In the\\n\\nyear 2020, OpenAI made available the GPT-3 language model for the public to use. It is the most\\n\\nadvanced language model that has ever been created and can perform a wide variety of tasks that\\n\\ninvolve the processing of natural languages. Some examples of these tasks include the translation\\n\\nof languages, the summarization of information, the answering of questions, and the generation\\n\\nof text. The ChatGPT test is a variant of the GPT-3 protocol that has been optimized for\\n\\nconversational tasks such as providing replies to questions presented in natural language. This\\n\\noptimization was accomplished by taking the GPT-3 exam and modifying it specifically for\\n\\nconversational tasks. As a result of this, it is of great use in the development of chatbots and\\n\\nother artificial intelligence applications that involve dialogue (Rudolph et al. 2023). The\\n\\nimplementation of ChatGPT in educational settings carries with it the potential to significantly\\n\\nimprove students\\' educational experiences; nevertheless, the technology must be utilized\\n\\nresponsibly and ethically. This involves making sure that students continue to develop their ability\\n\\nto think critically and find solutions to problems, as well as taking steps to reduce any existing\\n\\nprejudices and forms of discrimination. The responsible and ethical use of ChatGPT towards\\n\\nlifelong learning is an essential component of the larger discourse on AI ethics. To guarantee that\\n\\nthe technology is used in ways that promote beneficial results for students and society, continual\\n\\nresearch and monitoring are required.\\n\\nEmpirical Literature Review\\n\\nThe Open AI in Education literature review centres its attention on the ethical and appropriate\\n\\nusage of ChatGPT toward the pursuit of lifelong learning. ChatGPT is a cutting-edge language\\n\\nmodel that was developed by OpenAI. It has been making waves in the world of artificial\\n\\nintelligence (AI) as well as natural language processing (NLP). However, because it is being used\\n\\nmore frequently in a wide variety of applications, one of which being education, there is a growing\\n\\nworry regarding the ethical and responsible use of technology of this kind. ChatGPT can\\n\\ncompletely transform the method by which students acquire knowledge and access information\\n\\nwithin the realm of education. Students can benefit from learning opportunities that are both\\n\\ntailored to their interests and intellectually stimulating thanks to the capability of the model to\\n\\nproduce responses that mimic those of humans. Learning may also be made more accessible to\\n\\nstudents all around the world because of ChatGPT\\'s capability of handling several languages as\\n\\nwell as a wide variety of subject matters. However, the implementation of ChatGPT in\\n\\neducational settings gives rise to questions about the user\\'s ethical and responsible behaviour.\\n\\nBecause of its sophisticated artificial intelligence capabilities, ChatGPT runs the potential of\\n\\nreinforcing preexisting prejudices and forms of discrimination, which could result in learning\\n\\nElectronic copy available at: https://ssrn.com/abstract=4354422\\n\\nexperiences that are unequal and unfair. In addition, the implementation of such technology in\\n\\neducational settings may cause students to become less adept at critical thinking since they may\\n\\ncome to rely excessively on the responses that are generated by AI rather than coming up with\\n\\ntheir ideas.\\n\\nRudolph et al. (2023) argued that ChatGPT is the world\\'s most advanced chatbot so far because,\\n\\nunlike other chatbots, it can create impressive prose within seconds, and it has created much\\n\\nhype and doomsday predictions when it comes to the assessment of students in higher education\\n\\nas well as a variety of other topics. ChatGPT is a state-of-the-art language model, according to\\n\\nRudolph et al. (2023). It is a variant of OpenAI\\'s Generative Pretrained Transformer (GPT)\\n\\nlanguage model, which was developed to generate writing that is indistinguishable from text\\n\\nwritten by humans. Rudolph et al. (2023) feel that ChatGPT is capable of engaging in discussion\\n\\nwith users in a way that gives the impression of being natural and straightforward. Rudolph et al.\\n\\n(2023) provided a condensed summary of OpenAI\\'s history, which is the organization that\\n\\ndeveloped ChatGPT. We bring attention to the fundamental shift from a model of a not-for\\n\\nprofit organization to one of a commercial enterprise. According to Rudolph et al. (2023), our\\n\\nreview is one of the first academic journal publications to be peer-reviewed and investigate the\\n\\nsignificance of ChatGPT for higher education, particularly in the areas of evaluation, learning, and\\n\\nteaching. Rudolph et al. (2023), focus on the technology\\'s implications for higher education and\\n\\ndiscuss what the future holds for learning, teaching, and assessment in higher education in the\\n\\ncontext of artificial intelligence chatbots such as ChatGPT. Rudolph et al. (2023) provided a\\n\\ndescription of ChatGPT\\'s functionality as well as a summary of its strengths and limitations.\\n\\nRudolph et al. (2023) examine student-facing, teacher-facing, and system-facing applications, as\\n\\nwell as potential dangers in the field of artificial intelligence in education (AIEd). They place\\n\\nChatGPT into the context of current research on artificial intelligence in education (AIEd).\\n\\nIn the final section of this paper, Rudolph et al. (2023),  offer some recommendations for students,\\n\\nprofessors, and institutions of higher education.\\n\\nThurzo et al. (2023) presented an up-to-date summary of the impending changes and a brief study\\n\\nof the influential breakthroughs in the application of AI in dentistry education since the year 2020.\\n\\nThis research was published in the journal Dental Education. In addition, Thurzo et al. (2023)\\n\\npresented a manual for an updated dental curriculum that may be used for both undergraduate\\n\\nand postgraduate education. This manual was written in the context of developments in AI\\n\\napplications and the influence these developments have had on dentistry. It shouldn\\'t come as a\\n\\nsurprise that the majority of dental educators have limited knowledge and skills to evaluate AI\\n\\napplications because they were not taught to do so, as stated by Thurzo et al. (2023). Additionally,\\n\\nThurzo et al. (2023) pointed out that recent years have seen exponential growth in the\\n\\ndevelopment of AI technologies. According to Thurzo and colleagues (2023), factual reliability\\n\\nand opportunities with OpenAI Inc.\\'s ChatGPT are regarded as crucial turning moments in the\\n\\nera of generative artificial intelligence (AI). According to Thurzo et al. (2023), when advanced\\n\\ndeep-learning algorithms take over the clinical fields of dentistry and redefine diagnosis, treatment\\n\\nplanning, management, and telemedicine screening, it is inevitable that dental institution curricula\\n\\nwill need to be updated. According to Thurzo et al. (2023), recent advancements in AI language\\n\\nmodels will cause a shift in how dentists communicate with their patients. As a result, the\\n\\nElectronic copy available at: https://ssrn.com/abstract=4354422\\n\\nfundamentals of dental education, such as the writing of essays, theses, or scientific papers, would\\n\\nneed to be modified.\\n\\nOn the other hand, Thurzo et al. (2023) suggest that there is a rising worry about its ethical and\\n\\nlegal consequences and that greater consensus is required for the safe and responsible\\n\\ndeployment of AI in dental education. Pfeffer et al. (no date) argued that large language models\\n\\nrepresent a significant advancement in the field of artificial intelligence, with the underlying\\n\\ntechnology as the key to further innovations. Large language models are here to stay, despite\\n\\ncritical views and even bans within communities and regions. Pfeffer et al. (no date) addressed\\n\\nthe possible benefits and problems of educational uses of large language models, from the\\n\\nperspectives of both students and teachers. The authors focused on the benefits of using large\\n\\nlanguage models. Pfeffer and colleagues (no date given) talked about the current state of massive\\n\\nlanguage models and the uses that they have. After that, we focus on how these models might be\\n\\nutilized to produce educational content, enhance student engagement and interaction, and tailor\\n\\nlearning experiences. Pfeffer et al. (no date) argue that large language models in education demand\\n\\nboth educators and students to create sets of areas of expertise and information literacy\\n\\nnecessary to comprehend the technology as well as the constraints and unexpected brittleness\\n\\nof such systems. This is about the challenges that are presented. In addition, Pfeffer and colleagues\\n\\n(no date) argued that a clear strategy within school institutions and a clear teaching approach\\n\\nwith a strong concentration on critical thinking and strategies for fact-checking are required to\\n\\nintegrate and make full use of large language models in classroom styles and teaching curricula.\\n\\nThis is necessary to take full advantage of the benefits that large language models offer. Pfeffer et\\n\\nal. (no date) also presented other obstacles, some of which are not exclusive to the application\\n\\nof AI in education. These challenges include the potential for bias in the output, the requirement\\n\\nof continual human monitoring, and the potential for misuse. Pfeffer et al. (no date) feel that if\\n\\nthese difficulties are handled wisely, they can offer insights and possibilities in education settings\\n\\nto acquaint students with potential social biases, criticalities, and risks of AI application early on\\n\\nin their academic careers.\\n\\nAccording to Qadir (2022), engineering education is perpetually changing to keep pace with the\\n\\nmost recent advances in technology and to adapt to the shifting requirements of the engineering\\n\\nindustry. According to Qadir (2022), the application of generative artificial intelligence\\n\\ntechnologies in this industry, such as the ChatGPT conversational agent, is one of the exciting\\n\\ndevelopments that has recently taken place. Students can receive individualized feedback and\\n\\nexplanations with ChatGPT, which also enables the creation of realistic virtual simulations for\\n\\nhands-on learning opportunities. This has the potential to make students\\' educational experiences\\n\\nmore productive and personalized. Qadir (2022), on the other hand, believes that it is necessary\\n\\nto take into account the constraints imposed by this technology. According to Qadir (2022),\\n\\nChatGPT and other generative AI systems are only as good as the data that they use to train\\n\\nthemselves, and they may perpetuate biases or even generate and propagate false information. In\\n\\naddition, Qadir (2022) argued that the use of generative AI in education raises ethical concerns.\\n\\nThese concerns include the possibility that students will use the technology in an unethical or\\n\\ndishonest manner, as well as the possibility that humans will become unemployed as a result of\\n\\ntechnology rendering their jobs obsolete. In conclusion, Qadir (2022) believes that engineering\\n\\neducators must comprehend the implications of this innovation and study how to make\\n\\nadjustments to the engineering education ecosystem to ensure that the next generation of\\n\\nElectronic copy available at: https://ssrn.com/abstract=4354422\\n\\nengineers will be able to realize the benefits offered by generative AI while minimizing any negative\\n\\nconsequences. Qadir\\'s research was published in the journal Engineering Education and Research\\n\\nin 2022.\\n\\nZhuo et al. (2023) claimed that recent advances in natural language processing have made it\\n\\npossible to synthesize and comprehend coherent text in an open-ended manner. This has allowed\\n\\nthe theoretical techniques to be translated into practical implementations. According to Zhuo et\\n\\nal. (2023), the huge language model has had a substantial impact on a variety of enterprises,\\n\\nincluding those that develop a report summarizing software and copywriters. Large language\\n\\nmodels may exhibit social prejudice and toxicity, as suggested by the findings of Zhuo et al. (2023),\\n\\nwhich poses ethical and societal hazards in the form of consequences deriving from\\n\\nirresponsibility. As a result, large-scale standards for accountable big language models must be\\n\\nconstructed following the recommendations made by Zhuo et al (2023). Zhuo et al. (2023)\\n\\nfurther educate future efforts on responsibly constructing ethical large language models, we\\n\\nperform a qualitative research method on OpenAI\\'s ChatGPT to better understand the practical\\n\\nfeatures of ethical dangers in recent large language models. Zhuo et al. (2023) further educate\\n\\nfuture efforts on constructing ethical large language models. The potential of artificial intelligence\\n\\n(AI) to address social megatrends was also investigated by Haluza and Jungwirth (2023), with a\\n\\nparticular emphasis on OpenAI\\'s Generative Pre-Trained Transformer 3 as the subject of their\\n\\nresearch (GPT-3).\\n\\nTo accomplish this, Haluza and Jungwirth (2023) utilized GPT-3 to investigate the potential\\n\\nbenefits of AI in the context of digitization, urbanization, globalization, climate change, automation\\n\\nand mobility, global health challenges, and an ageing population. Within the scope of this study,\\n\\nHaluza and Jungwirth (2023) considered not only the topic of sustainability but also that of rising\\n\\nmarkets. The only way to interact with GPT-3 was through a series of predetermined questions,\\n\\nand the responses it generated were examined. According to the findings presented by Haluza\\n\\nand Jungwirth (2023), AI has the potential to considerably enhance our comprehension of these\\n\\ntendencies by illuminating how their manifestations evolve and suggesting potential responses to\\n\\nthe challenges they provide. Further, Haluza and Jungwirth (2023) claimed that more research is\\n\\nrequired to assess how effective AI will be in successfully tackling these challenges; nonetheless,\\n\\nthe first findings are encouraging. According to Haluza and Jungwirth (2023), additional research\\n\\nneeds to be conducted to determine how to make the most effective use of emerging\\n\\ntechnologies such as GPT-3 when addressing these difficulties. Last but not least, Haluza and\\n\\nJungwirth (2023) concluded that while there is still a great deal of work to be done before any\\n\\ntangible effects can be seen from utilizing AI tools such as GPT-3 on societal mega-trends, early\\n\\nindications suggest that it may have a positive impact if used correctly. This is although there is\\n\\nstill a great deal of work left to be done before any such effects can be seen.\\n\\nUse of ChatGPT for education: Challenges\\n\\nIt is one of the key reasons why the use of ChatGPT for grading written tasks is discouraged\\n\\nbecause of the potential threat that it poses to more conventional methods of assessing written\\n\\nwork, such as essays. Some educators are afraid that students will outsource their work to\\n\\nChatGPT because the platform can rapidly generate acceptable text. This makes it more difficult\\n\\nto identify instances of plagiarism, which causes some educators to be concerned (Rudolph et al.\\n\\nElectronic copy available at: https://ssrn.com/abstract=4354422\\n\\n2023). However, this may be due to a reluctance to alter the methods that are used to evaluate\\n\\nthe learning of students. Written assignments are commonly criticized for being uninteresting\\n\\nand ineffective in determining students\\' levels of knowledge and skills; however, this may be due\\n\\nto a reluctance to modify the methods that are used to evaluate the learning of students. Another\\n\\nissue that causes some cause for concern is the fact that ChatGPT, which is effectively just a text\\n\\ngenerating machine, does not grasp the information it generates, nor does it judge whether or\\n\\nnot it is accurate or relevant. It is feasible that this will result in regulations that ban its utilization;\\n\\nnevertheless, it is also conceivable that ChatGPT technology will become ubiquitous before\\n\\ninstitutions have the time to alter their policies. An approach that focuses on correcting the issues\\n\\nthat have been caused by ChatGPT while also taking into account the potential benefits and\\n\\ndrawbacks of the platform would be more effective. When an educational piece of technology\\n\\nthat has the potential to revolutionize the field is made available to the public, it is the\\n\\nresponsibility of educators and policymakers to address any problems that may arise as a result\\n\\nof its implementation and to devise strategies to do away with educational practices that are\\n\\ninefficient. The instance of a Chinese schoolgirl who used a machine to copy enormous amounts\\n\\nof text serves as an illustration of how important it is to develop a responsible approach when\\n\\nmaking use of technology in educational settings.\\n\\nUse of ChatGPT for Education: Opportunities\\n\\nThe fact that ChatGPT is capable of writing essays paves the opportunity for fresh and innovative\\n\\nmethods to be used in educational settings. Many specialists in the field, such as McMurtrie (2022)\\n\\nand Sharples (2022), believe that artificial intelligence (AI) technologies, such as ChatGPT, will\\n\\nsoon be a vital component of education, and they propose making use of technology to enhance\\n\\nlearning. One way that assessment procedures can be improved is by giving teachers the tools\\n\\nthey need to use testing both as a tool for learning and as a means of learning itself. In addition,\\n\\nChatGPT can be leveraged to build teaching approaches, boost student participation and\\n\\nteamwork, and promote hands-on, experiential learning. Even though ChatGPT is a technology\\n\\nthat can be considered disruptive, it presents a tremendous opportunity to modernize the\\n\\neducational system. In a word, the implementation of ChatGPT in the context of an educational\\n\\ninstitution brings with it a wide range of opportunities as well as challenges for teachers. The\\n\\ncapability of ChatGPT to generate essays is seen by some as a potential risk to traditional methods\\n\\nof evaluating students, but it also gives teachers the chance to develop brand-new approaches to\\n\\ntesting students\\' knowledge and skills. It is possible to use ChatGPT to improve the evaluation\\n\\ncapabilities of instructors, stimulate collaboration and teamwork among students, and give\\n\\nstudents more possibilities to learn via trial and experience. In conclusion, ChatGPT is a\\n\\ntechnology that is considered as being disruptive in the education sector; nonetheless, it has the\\n\\npotential to transform education via innovation.\\n\\nResponsible And Ethical Use of ChatGPT in Education\\n\\nTo ensure that ChatGPT is utilized in a manner that is safe, fair, and courteous to students,\\n\\ninstructors, and all other stakeholders, it is necessary to adhere to responsible and ethical\\n\\npractices while implementing the technology in educational settings. The application of artificial\\n\\nintelligence (AI) technology in educational settings, such as ChatGPT, can bring about a great\\n\\nmany benefits; nevertheless, it also raises problems regarding ethics and responsibility.\\n\\nElectronic copy available at: https://ssrn.com/abstract=4354422\\n\\nTransparency in\\n\\nthe Use of Chat\\n\\nGPT\\n\\nRespect For\\n\\nPrivacy\\n\\nAccuracy of\\n\\nInformation\\n\\nResponsible And\\n\\nEthical Use of ChatGPT\\n\\nin Education\\n\\nResponsible AI, It\\'s\\n\\nImportant to\\n\\nEducate Students\\n\\nAbout AI And Its\\n\\nLimitations.\\n\\nChatgpt is not a\\n\\nSubstitute for\\n\\nHuman Teachers\\n\\nFairness and Non\\n\\nDiscrimination\\n\\nFigure 2: Responsible and Ethical Use of ChatGPT in Education\\n\\nThe obligations and ethical usage of ChatGPT in the education sector are outlined in the figure\\n\\nthat can be found above labelled as Figure 2. These responsibilities include respect for privacy,\\n\\nfairness and non-discrimination, transparency in the use of ChatGPT, and a few more.\\n\\nRespect For Privacy\\n\\nTo start, protecting the privacy of users\\' data is a primary priority. Because ChatGPT is trained\\n\\non enormous volumes of data obtained from the internet, it is essential to ensure that the\\n\\npersonal data of students is safeguarded and not put to inappropriate use. Before using ChatGPT\\n\\nin the classroom, educators should inform students about how their data is gathered, used, and\\n\\nkept and acquire their consent. In addition, students should be aware of the security measures\\n\\nthat are in place to protect their data. When it comes to the application of ChatGPT in the realm\\n\\nof education, the protection of users\\' personal information is an essential concern. It is imperative\\n\\nthat the confidentiality of all individuals participating in the educational process, including students,\\n\\nteachers, and anybody else, is always maintained. The General Data Protection Regulation\\n\\n(GDPR) in Europe and the Children\\'s Online Privacy Protection Act (COPPA) in the United\\n\\nStates both require organizations to protect the personal data of individuals (Botha et al. 2017,\\n\\nBerger 2022). These laws are similar in that they require organizations to do whatever they can\\n\\nto protect the personal data of individuals, including students. This comprises student\\n\\ninformation, grades, and assessment results that were gathered through the use of ChatGPT in\\n\\nthe educational setting. Should one fail to preserve sensitive data, one may face serious\\n\\nrepercussions in both the legal and financial spheres.\\n\\nElectronic copy available at: https://ssrn.com/abstract=4354422\\n\\nAgain, the usage of ChatGPT in educational settings frequently entails the communication of\\n\\nprivate information, such as grades, student performance, and personal particulars. To maintain\\n\\nthe confidentiality of the individuals who are involved, it is necessary to prevent unauthorized\\n\\naccess to, use of, or disclosure of the information in question. When it comes to the learning\\n\\nprocess, trust is an essential component (Tartavulea et al. 2020, Myskja 2023). When students,\\n\\nteachers, and other individuals participating in education have faith that the confidentiality of their\\n\\npersonal information will be maintained, they are more likely to give their full attention and\\n\\nparticipation to the learning process. On the other side, if a person\\'s right to privacy is violated\\n\\nin any way, the trust may be broken, which may have a detrimental effect not only on the\\n\\noutcomes of learning but also on overall contentment. The use of ChatGPT in educational settings\\n\\nshould be conceived of and carried out in a manner that is consistent with ethical principles such\\n\\nas informed consent, transparency, and accountability. Respecting individuals\\' right to privacy is\\n\\nan ethical obligation because it demonstrates respect for individuals and their rights. When it\\n\\ncomes to the educational use of ChatGPT, protecting users\\' privacy is of the utmost importance.\\n\\nIt is necessary to take appropriate safeguards to safeguard the personal data of those involved in\\n\\nthe educational process, to maintain trust, and to ensure that the use of ChatGPT is consistent\\n\\nwith ethical principles. These three goals must be met for ChatGPT to be used ethically.\\n\\nFairness and Non-Discrimination\\n\\nIt is possible for ChatGPT to exhibit bias, particularly in the language that it was trained on. It is\\n\\nessential to be aware of this, as well as to provide a suitable context when utilizing ChatGPT in\\n\\nthe classroom setting. The potential for harm should also be brought to the attention of\\n\\neducators, particularly if ChatGPT is used as a grading or evaluation tool for pupils. Students shall\\n\\nnot be subjected to bias, discrimination, or unfair treatment because of their use of ChatGPT,\\n\\nregardless of variables such as their colour, gender, or socioeconomic background. Because AI\\n\\nalgorithms like ChatGPT can perpetuate and magnify existing biases, prejudices, and\\n\\ndiscrimination, fairness and non-discrimination must be strictly adhered to whenever ChatGPT\\n\\nis used in educational settings. Pupils may be treated unfairly and unequally if these biases are not\\n\\nrecognized and remedied immediately. As a result, it is essential to make certain that ChatGPT\\n\\nand other AI systems are conceived, developed, and used in a fair and non-discriminatory manner\\n\\nat every stage of the process. Consider the possibility of using ChatGPT to assign grades to\\n\\nstudent essays, for instance. Students who come from underrepresented groups may have their\\n\\nessays receive unjust grades because the training data that was used to train ChatGPT was\\n\\nskewed toward a certain set of people. This could lead to more marginalization of populations\\n\\nthat are already at a disadvantage in terms of education and could further exacerbate existing\\n\\neducational gaps. Furthermore, language models like ChatGPT can propagate and magnify\\n\\nunwanted preconceptions, biases, and prejudices. This is a risk that comes with using these\\n\\nmodels. When employed in educational contexts, ChatGPT may provide responses that are\\n\\nprejudiced and discriminatory, for instance, if the training data that was used to train it had\\n\\nunfavourable prejudices about particular groups. Students, instructors, and other members of the\\n\\neducational community may suffer because of this. Because of this, it is essential to conduct an\\n\\nin-depth analysis of artificial intelligence (AI) systems such as ChatGPT and address the possibility\\n\\nof discrimination and bias before implementing them in educational contexts.\\n\\nChatgpt is not a Substitute for Human Teachers\\n\\nElectronic copy available at: https://ssrn.com/abstract=4354422\\n\\nChatGPT is not intended to replace in-person instruction from qualified instructors. It ought to\\n\\nbe regarded as a device that supplements classroom instruction and student learning rather than\\n\\none that supplants it. Rather than depending solely on the AI tool to carry out all of the necessary\\n\\ntasks, teachers should utilize ChatGPT in a manner that improves their methods of instruction\\n\\nand encourages students to engage in analytical and critical thinking. In recent years, there has\\n\\nbeen a lot of discussion over the application of artificial intelligence, such as ChatGPT, in the\\n\\nclassroom setting. It is important to note that even though ChatGPT presents several\\n\\nopportunities for improvement in educational settings, it is not intended to take the place of\\n\\nactual instructors. This is true for several different reasons, all of which are valid. The human\\n\\nconnection that exists between an instructor and a student can never be replaced by ChatGPT.\\n\\nThe relationship that exists between a teacher and their pupils is among the most essential\\n\\ncomponents of the educational process. Teachers can create connections with their pupils and\\n\\ngain an understanding of the student\\'s particular requirements, as well as their strengths and\\n\\nweaknesses (Kim 2020, Attard & Holmes 2020, Alam 2022). On the other hand, ChatGPT is only\\n\\na machine that is incapable of developing meaningful connections with its users (the students).\\n\\nThe goal of education should not be limited to the dissemination of information but should also\\n\\ninclude the cultivation of interpersonal ties and relationships. It is largely up to the teachers to\\n\\nestablish an atmosphere in the classroom that is encouraging and welcoming to students of all\\n\\nbackgrounds. Because it is an AI language model, ChatGPT does not possess the emotional\\n\\nintelligence, empathy, or interpersonal skills that human teachers do. Because of this, it is difficult\\n\\nfor ChatGPT to comprehend the unique requirements of each student, to offer individualized\\n\\nassistance, and to produce a learning environment that is positive and engaging. Creativity and\\n\\nanalytical thinking are not strong points of ChatGPT. Teachers receive training to develop their\\n\\ncreative and critical thinking skills, which enables them to provide individualized support and\\n\\ndirection to the students in their classrooms. On the other hand, ChatGPT is constrained by the\\n\\nprogramming and algorithms that it uses, and as a result, it is unable to think creatively or critically\\n\\nin the same way that a human instructor can. The field of education is always shifting and\\n\\ndeveloping(Mhlanga 2021, Mhlanga 2022, Mhlanga 2023). The ever-evolving requirements of\\n\\nstudents can be accommodated by human instructors, who can also add novel concepts and\\n\\nstrategies into their lessons and adjust their approach to instruction in response to the comments\\n\\nand suggestions of their pupils. On the other hand, ChatGPT operates based on the data it was\\n\\ntrained on and is unable to alter its approach to match the particular requirements of individual\\n\\nstudents or courses.\\n\\nChatGPT is not Capable of Comprehending The Surrounding Context.\\n\\nIn the field of education, it is frequently vital to have a solid understanding of the environment in\\n\\nwhich a student is functioning to offer the most pertinent assistance and direction (Mahoney et\\n\\nal. 2021, Alam 2022). This context takes into account the student\\'s culture, background, and the\\n\\nexperiences they\\'ve had throughout their life (Mahoney et al. 2021, Alam 2022 Adams et al.2022).\\n\\nChatGPT, being a machine, is not capable of comprehending or appreciating these aspects in the\\n\\nsame manner that a human educator can do so. To reiterate, ChatGPT is unable to deliver either\\n\\nhands-on training or experiential education. The greatest way for many children to learn is\\n\\nthrough opportunities for hands-on and experiential learning (LeBaron et al. 2019, Jacobs 2020).\\n\\nIt is in the best position of those who teach to provide these possibilities, and they can do so\\n\\nwith hands-on projects, laboratory experiments, or field trips learning (LeBaron et al. 2019, Jacobs\\n\\nElectronic copy available at: https://ssrn.com/abstract=4354422\\n\\n2020). On the other hand, ChatGPT is not able to deliver these kinds of educational opportunities\\n\\nas effectively as other platforms can. Creativity, invention, and originality are all things that can\\n\\nbe brought to the classroom by human teachers. They are capable of developing interesting\\n\\ncourses, employing unique teaching approaches, and encouraging students to think critically and\\n\\ncreatively outside of the box. Because it is an AI model, ChatGPT functions according to pre\\n\\nprogrammed algorithms and does not have the same level of creativity and originality as human\\n\\ninstructors have. In conclusion, although ChatGPT has the prospective to play a part in the field\\n\\nof education, it should not be seen as a replacement for actual teachers. The talents, experiences,\\n\\nand points of view that human teachers bring into the classroom cannot be reproduced by a\\n\\nmachine in any way, shape, or form. It is essential to be aware of the constraints imposed by\\n\\nChatGPT and to make certain that the platform is applied in ways that complement and do not\\n\\nsupplant the role of human educators.\\n\\nResponsible AI, It\\'s Important to Educate Students About AI And Its Limitations.\\n\\nStudents need to be aware that ChatGPT is not a sentient creature but rather an artificial\\n\\nintelligence model with the ability to generate text. Students should be encouraged to challenge\\n\\nthe output of ChatGPT, and teachers should assist students in developing a critical and educated\\n\\nviewpoint on the application of artificial intelligence in the classroom. When using ChatGPT in\\n\\nthe classroom, it is essential to educate students about artificial intelligence (AI) as well as the\\n\\nlimitations of AI for several reasons. To begin, artificial intelligence (AI) systems such as ChatGPT\\n\\nare not flawless, and students must understand the limitations and biases that these systems have.\\n\\nFor instance, ChatGPT was trained on a massive body of textual material sourced from the\\n\\ninternet, which may contain information that is unreliable, biased, or deceptive. As a consequence\\n\\nof this, pupils need to be able to conduct an in-depth analysis of the data that is produced by\\n\\nChatGPT and comprehend how to discriminate between genuine and unreliable sources of\\n\\ninformation. Second, students need to understand the potential ethical and social ramifications\\n\\nthat artificial intelligence could have. For instance, if ChatGPT is used to assess students\\' essays\\n\\nor provide feedback to them, there is a possibility that it will perpetuate existing biases and\\n\\nprolong unfairness. This is a risk that ChatGPT poses. Students have a responsibility to be aware\\n\\nof these problems and to comprehend the various solutions available. Third, for students to\\n\\nsuccessfully traverse a technological landscape that is always evolving, they need to be prepared\\n\\nwith the knowledge and skills necessary to do so.\\n\\nStudents need to understand how artificial intelligence works, as well as its capabilities and\\n\\nlimitations since AI continues to progress and become more pervasive (Wong et al. 2020, Alam\\n\\n2022). Because of this, they will be equipped with the knowledge and abilities necessary to make\\n\\neducated judgments regarding the application of AI in their future employment and their personal\\n\\nlives. Last but not least, educators can contribute to the development of a more educated and\\n\\nresponsible connection between humans and AI by teaching students about the limitations of AI.\\n\\nThis can help ensure that AI is employed in a way that is not only safe but also ethical and useful\\n\\nto society. Educating students about artificial intelligence (AI) and the limitations of AI is important\\n\\nfor the development of critical thinking, the promotion of ethical and responsible use of AI, and\\n\\nthe equipping of students with the skills and knowledge they need to navigate a technological\\n\\nlandscape that is rapidly changing.\\n\\nElectronic copy available at: https://ssrn.com/abstract=4354422\\n\\nTransparency in the Use of Chat GPT\\n\\nIt is also essential to be open and honest about the implementation of ChatGPT in educational\\n\\nsettings and to offer frequent forums in which students and teachers can debate the moral and\\n\\nresponsible application of artificial intelligence (AI). This can take the form of recurring\\n\\nworkshops, discussion groups, or forums, at which participants can ruminate on the merits and\\n\\ndrawbacks of utilizing AI in educational settings, as well as formulate suggestions for its\\n\\nresponsible and ethical application. Because it guarantees that students, professors, and\\n\\neducational institutions understand how the technology works and what it is capable of doing,\\n\\ntransparency is a crucial feature of adopting ChatGPT in education. Both students and teachers\\n\\nmust understand how artificial intelligence technology such as ChatGPT processes information\\n\\nand creates responses before implementing the technology in educational settings. This assists in\\n\\nthe elimination of any ambiguities or misconceptions that may develop and ensures that the\\n\\ntechnology is used ethically and responsibly(Mhlanga 2022 Rodgers et al. 2023). In the context of\\n\\neducation, examples of transparent use of ChatGPT could include informing students about the\\n\\nalgorithms and data sources used by the technology, as well as describing how it processes and\\n\\ncreates responses.\\n\\nThis knowledge may be made accessible in a variety of formats, such as educational materials or\\n\\nguides for academic institutions and their respective students and professors. In addition,\\n\\neducational institutions can make it a priority to utilize open-source or transparent AI technology\\n\\nto ensure that students and teachers have access to the source code and underlying data. This\\n\\ncan be accomplished by making the adoption of open-source or transparent AI technology a\\n\\npriority. The provision of students with a clear explanation of the potential biases and limitations\\n\\nof the technology used in the classroom is another illustration of the transparent nature of the\\n\\nuse of ChatGPT in educational settings. It is essential, for instance, that students be made aware\\n\\nof the fact that artificial intelligence algorithms, such as ChatGPT, are only as objective as the data\\n\\nthey are trained on. The replies that are generated by the technology are susceptible to reflecting\\n\\nany biases that may be present in the training data. Students can be better prepared to critically\\n\\nanalyze and comprehend the replies generated by ChatGPT if they are educated about the\\n\\nconstraints described here and how they apply. Transparency is of the utmost importance while\\n\\nutilizing ChatGPT in educational settings because it not only assists in fostering an ethical and\\n\\nresponsible utilization of the technology but also provides students with a better comprehension\\n\\nof the latter\\'s capabilities and restrictions. This gives students the ability to use ChatGPT in an\\n\\ninformed manner and also ensures that the technology is utilized in a manner that is in line with\\n\\nthe core values and guiding principles of the educational establishment in which they are enrolled.\\n\\nIn conclusion, the use of ChatGPT in education that is responsible and ethical needs an\\n\\nunderstanding of potential biases and limitations, security of students\\' data, transparency in its\\n\\nusage, and critical evaluation of the influence it has on the teaching and learning process. It is the\\n\\nrole of educators to assist students in forming well-informed and analytical viewpoints on artificial\\n\\nintelligence (AI) and to utilize AI technologies such as ChatGPT in a manner that supplements,\\n\\nrather than replaces, their teaching.\\n\\nAccuracy of Information\\n\\nElectronic copy available at: https://ssrn.com/abstract=4354422\\n\\nThe accuracy of the information is very significant in the field of education since it guarantees that\\n\\nthe material that is being taught and learned is accurate, trustworthy, and credible. When it comes\\n\\nto the instruction of scientific principles, providing accurate information is quite necessary, as\\n\\nproviding the material that is not accurate might lead to misunderstandings and misconceptions.\\n\\nFor instance, if a student is taught that the world is flat, they will have an incorrect grasp of\\n\\ngeography, astronomy, and any other relevant disciplines that are taught in conjunction with this\\n\\ntopic. Accurate knowledge is necessary for history lectures to comprehend the significance of\\n\\nthe past to the present and how it has evolved. If a student is led to believe that that the first\\n\\nblack president of South Africa was Thabo Mbeki or George Washington served as the first\\n\\npresident of France rather than the United States, then that student will have an incorrect grasp\\n\\nof the history of South Africa or the United States. Accuracy is essential in mathematics for both\\n\\nthe problem-solving process and the comprehension of mathematical concepts (Al-Mutawah et\\n\\nal. 2019, Santia & Sutawidjadja 2019). If a pupil is taught that adding two and four equals five, then\\n\\nthey will struggle to solve arithmetic problems and understand more sophisticated mathematical\\n\\nideas that build upon this fundamental understanding. As a result, it is essential to make certain\\n\\nthat the information that is offered by ChatGPT as well as any other instrument that is utilized in\\n\\nthe educational process is accurate. Both teachers and students need to exercise critical thinking\\n\\nwhen it comes to the information they are given and check it with reliable sources.\\n\\nConclusion and Policy Recommendations\\n\\nSignificant shifts have taken place in society, the economy, and the environment as a direct result\\n\\nof the accelerated rate of technological advancement and increased global interconnectedness. In\\n\\nrecent years, the field of artificial intelligence has made considerable advancements, which has\\n\\nresulted in the development of cutting-edge technologies like Open AI\\'s ChatGPT. The ChatGPT\\n\\nlanguage model is a cutting-edge piece of technology that can usher in a period of profound\\n\\ntransformation within the field of education. This article\\'s goals are to (1) provide a complete\\n\\nevaluation of the responsible and ethical usage of ChatGPT in education, and (2) encourage\\n\\nadditional research and discussion on this extremely important topic. The document analytical\\n\\nmethod was used in the research, and it was found that for ChatGPT to be used in education, it\\n\\nis essential to ensure that privacy is respected, that there is fairness and non-discrimination, that\\n\\nthere is transparency in the use of ChatGPT, and that there are a few other conditions outlined\\n\\nin the research. According to the findings of this research, it is advised that all of these ideas be\\n\\nfollowed to guarantee that the integrity and responsibility of the education sector are preserved\\n\\nall over the world.\\n\\nData availability\\n\\nNo Data was analysed in this study.\\n\\nCompeting interests\\n\\nThe authors declare no competing interests.\\n\\nEthical approval\\n\\nElectronic copy available at: https://ssrn.com/abstract=4354422\\n\\nThis article does not contain any studies with human participants performed by any of the\\n\\nauthors. Ethical approval was not relevant.\\n\\nInformed consent\\n\\nThis article does not contain any studies with human participants performed by any of the\\n\\nauthors. Informed consent was not relevant.\\n\\nReferences\\n\\nAdams, D., Chuah, K. M., Sumintono, B., & Mohamed, A. (2022). Student\\'s readiness for e-learning\\n\\nduring the COVID-19 pandemic in a South-East Asian university: a Rasch analysis. Asian\\n\\nEducation and Development Studies, 11(2), 324-339.\\n\\nAlam, A. (2022). Cloud-Based E-learning: Scaffolding the Environment for Adaptive E-learning\\n\\nEcosystem Based on Cloud Computing Infrastructure. In Computer Communication,\\n\\nNetworking and IoT: Proceedings of 5th ICICC 2021, Volume 2 (pp. 1-9). Singapore:\\n\\nSpringer Nature Singapore.\\n\\nAlam, A. (2022). Employing Adaptive Learning and Intelligent Tutoring Robots for Virtual\\n\\nClassrooms and Smart Campuses: Reforming Education in the Age of Artificial Intelligence.\\n\\nIn Advanced Computing and Intelligent Technologies: Proceedings of ICACIT 2022 (pp.\\n\\n395-406). Singapore: Springer Nature Singapore.\\n\\nAlam, A. (2022, April). A digital game-based learning approach for effective curriculum transaction\\n\\nfor teaching-learning of artificial intelligence and machine learning. In 2022 International\\n\\nConference on Sustainable Computing and Data Communication Systems (ICSCDS) (pp.\\n\\n69-74). IEEE.\\n\\nAl-Mutawah, M. A., Thomas, R., Eid, A., Mahmoud, E. Y., & Fateel, M. J. (2019). Conceptual\\n\\nUnderstanding, Procedural Knowledge and Problem-Solving Skills in Mathematics: High\\n\\nSchool Graduates Work Analysis and Standpoints. International journal of education and\\n\\npractice, 7(3), 258-273.\\n\\nAttard, C., & Holmes, K. (2020). An exploration of teacher and student perceptions of blended\\n\\nlearning in four secondary mathematics classrooms. Mathematics Education Research\\n\\nJournal, 1-22.\\n\\nBerger, C. W. (2022). Privacy law for business decision-makers in the united states. In Ethics of\\n\\nData and Analytics (pp. 129-137). Auerbach Publications.\\n\\nBorenstein, J., & Howard, A. (2021). Emerging challenges in AI and the need for AI ethics\\n\\neducation. AI and Ethics, 1, 61-65.\\n\\nBotha, J., Grobler, M. M., Hahn, J., & Eloff, M. (2017). A high-level comparison between the\\n\\nSouth African protection of personal information act and international data protection\\n\\nlaws. In ICMLG2017 5th International Conference on Management Leadership and\\n\\nGovernance (p. 57).\\n\\nCarvalho, L., Martinez-Maldonado, R., Tsai, Y. S., Markauskaite, L., & De Laat, M. (2022). How\\n\\ncan we design for learning in an AI world?. Computers and Education: Artificial\\n\\nIntelligence, 3, 100053.\\n\\nFerster, B. (2014). Teaching machines: Learning from the intersection of education and\\n\\ntechnology. JHU Press.\\n\\nElectronic copy available at: https://ssrn.com/abstract=4354422\\n\\nGarrett, N., Beard, N., & Fiesler, C. (2020, February). More than\" If Time Allows\" the role of\\n\\nethics in AI education. In Proceedings of the AAAI/ACM Conference on AI, Ethics, and\\n\\nSociety (pp. 272-278).\\n\\nHaluza, D., & Jungwirth, D. (2023). Artificial Intelligence and ten societal megatrends: a GPT-3\\n\\ncase study. Preprints, 2023010474 (doi: 10.20944/preprints202301.0474.v1)\\n\\nHolmes, W., Porayska-Pomsta, K., Holstein, K., Sutherland, E., Baker, T., Shum, S. B., ... &\\n\\nKoedinger, K. R. (2021). Ethics of AI in education: Towards a community-wide framework.\\n\\nInternational Journal of Artificial Intelligence in Education, 1-23.\\n\\nHoppe, U., Verdejo, M. F., & Kay, J. (Eds.). (2003). Artificial intelligence in education: Shaping the\\n\\nfuture of learning through intelligent technologies (Vol. 922, No. 6389). IOS Press.\\n\\nJacobs, A. C. (2020). The benefits of experiential learning during a service-learning engagement\\n\\nin child psychiatric nursing education. African Journal of Health Professions Education,\\n\\n12(2), 81-85.\\n\\nKim, J. (2020). Learning and teaching online during Covid-19: Experiences of student teachers in\\n\\nan early childhood education practicum. International Journal of Early Childhood, 52(2),\\n\\n145-158.\\n\\nLeBaron, A. B., Runyan, S. D., Jorgensen, B. L., Marks, L. D., Li, X., & Hill, E. J. (2019). Practice\\n\\nmakes perfect: Experiential learning as a method for financial socialization. Journal of\\n\\nFamily Issues, 40(4), 435-463.\\n\\nMahoney, J. L., Weissberg, R. P., Greenberg, M. T., Dusenbury, L., Jagers, R. J., Niemi, K., ... &\\n\\nYoder, N. (2021). Systemic social and emotional learning: Promoting educational success\\n\\nfor all preschool to high school students. American Psychologist, 76(7), 1128.\\n\\nMhlanga, D.(2020) Artificial Intelligence (AI) and Poverty Reduction in the Fourth Industrial\\n\\nRevolution (4IR). Preprints 2020, 2020090362 (doi: 10.20944/preprints202009.0362.v1\\n\\nMhlanga, D. (2021). The fourth industrial revolution and COVID-19 pandemic in South Africa:\\n\\nThe opportunities and challenges of introducing blended learning in education. Journal of\\n\\nAfrican Education, 2(2), 15.\\n\\nMhlanga, D. (2022). Human-centered artificial intelligence: The superlative approach to achieve\\n\\nsustainable development goals in the fourth industrial revolution. Sustainability, 14(13),\\n\\n7804.\\n\\nMhlanga, D. (2022). Rethinking Education in the Industry 4.0 in Africa, the Effective Management\\n\\nand Leadership of Education Post-COVID-19 Pandemic Towards Digital Transformation.\\n\\nAvailable at SSRN 4245885.\\n\\nMhlanga, D. (2023). Digital Transformation in Education: Relevant Paradigms and Theories of\\n\\nTeaching and Learning in the Industry 4.0. In: Kahraman, C., Haktanır, E. (eds) Intelligent\\n\\nSystems in Digital Transformation. Lecture Notes in Networks and Systems, vol 549.\\n\\nSpringer, Cham. https://doi.org/10.1007/978-3-031-16598-6_19\\n\\nMyskja, B. K. (2023). Technology and Trust–A Kantian Approach. In Technology Ethics (pp.\\n\\n122-129). Routledge.\\n\\nNguyen, A., Ngo, H. N., Hong, Y., Dang, B., & Nguyen, B. P. T. (2022). Ethical principles for\\n\\nartificial intelligence in education. Education and Information Technologies, 1-21.\\n\\nPaulus, M. J., & Langford, M. D. (Eds.). (2022). AI, Faith, and the Future: An Interdisciplinary\\n\\nApproach. Wipf and Stock Publishers.\\n\\nElectronic copy available at: https://ssrn.com/abstract=4354422\\n\\nPfeffer, O. P., Sailer, M., Schmidt, A., Seidel, T., Stadler, M., Weller, J., ... & Kasneci, G. ChatGPT\\n\\nfor Good? On Opportunities and Challenges of Large Language Models for Education.\\n\\nQadir, J. (2022). Engineering Education in the Era of ChatGPT: Promise and Pitfalls of Generative\\n\\nAI\\n\\nfor\\n\\nEducation.\\n\\nAvailable\\n\\nonline:\\n\\nhttps://www.techrxiv.org/articles/preprint/Engineering_Education_in_the_Era_of_ChatG\\n\\nPT_Promise_and_Pitfalls_of_Generative_AI_for_Education/21789434\\n\\nRodgers, W., Murray, J. M., Stefanidis, A., Degbey, W. Y., & Tarba, S. Y. (2023). An artificial\\n\\nintelligence algorithmic approach to ethical decision-making in human resource\\n\\nmanagement processes. Human Resource Management Review, 33(1), 100925.\\n\\nRudolph, J., Tan, S., & Tan, S. (2023) ChatGPT: Bullshit spewer or the end of traditional\\n\\nassessments in higher education?. Journal of Applied Learning and Teaching, 6(1).\\n\\nSantia, I., & Sutawidjadja, A. (2019). Exploring Mathematical Representations in Solving Ill\\n\\nStructured Problems: The Case of Quadratic Function. Journal on Mathematics Education,\\n\\n10(3), 365-378.\\n\\nTartavulea, C. V., Albu, C. N., Albu, N., Dieaconescu, R. I., & Petre, S. (2020). Online Teaching\\n\\nPractices and the Effectiveness of the Educational Process in the Wake of the COVID\\n\\n19 Pandemic. Amfiteatru Economic, 22(55), 920-936.\\n\\nThurzo, A., Strunga, M., Urban, R., Surovková, J., & Afrashtehfar, K. I. (2023). Impact of Artificial\\n\\nIntelligence on Dental Education: A Review and Guide for Curriculum Update. Education\\n\\nSciences, 13(2), 150.\\n\\nWong, G. K., Ma, X., Dillenbourg, P., & Huan, J. (2020). Broadening artificial intelligence education\\n\\nin K-12: where to start?. ACM Inroads, 11(1), 20-29.\\n\\nZhuo, T. Y., Huang, Y., Chen, C., & Xing, Z. (2023). Exploring AI Ethics of ChatGPT: A Diagnostic\\n\\nAnalysis. arXiv. https://doi.org/10.48550/arXiv.2301.12867')]"
            ]
          },
          "metadata": {},
          "execution_count": 18
        }
      ]
    },
    {
      "cell_type": "code",
      "source": [
        "# we will need to count tokens in the document and for that we need the tokenizer\n",
        "toknizer = tiktoken.encoding_for_model(model_name)\n",
        "\n",
        "def count_tokens(text):\n",
        "    return [len(toknizer.encode(document.page_content)) for document in text]\n",
        "\n",
        "count_tokens(documents)"
      ],
      "metadata": {
        "colab": {
          "base_uri": "https://localhost:8080/"
        },
        "id": "XJ1KQejY5bF4",
        "outputId": "2633ab3f-91e9-4793-8830-66f1508123cb"
      },
      "execution_count": 19,
      "outputs": [
        {
          "output_type": "execute_result",
          "data": {
            "text/plain": [
              "[14435]"
            ]
          },
          "metadata": {},
          "execution_count": 19
        }
      ]
    },
    {
      "cell_type": "code",
      "source": [
        "# split the document usiing markdowntextsplitter\n",
        "from langchain.text_splitter import MarkdownTextSplitter\n",
        "\n",
        "md_text_splitter = MarkdownTextSplitter(chunk_size=1000, chunk_overlap=200)\n",
        "document_section = md_text_splitter.split_documents(documents)\n",
        "\n",
        "len(document_section), max(count_tokens(document_section))"
      ],
      "metadata": {
        "colab": {
          "base_uri": "https://localhost:8080/"
        },
        "id": "OMvPmAQS7BKY",
        "outputId": "390c8ff5-e73e-4f62-e636-065b96f83776"
      },
      "execution_count": 22,
      "outputs": [
        {
          "output_type": "execute_result",
          "data": {
            "text/plain": [
              "(81, 369)"
            ]
          },
          "metadata": {},
          "execution_count": 22
        }
      ]
    },
    {
      "cell_type": "code",
      "source": [
        "Markdown(document_section[0].page_content)"
      ],
      "metadata": {
        "colab": {
          "base_uri": "https://localhost:8080/",
          "height": 481
        },
        "id": "upII3-VF7bWx",
        "outputId": "11de9110-3613-40e2-876f-9a99fca11bf5"
      },
      "execution_count": 26,
      "outputs": [
        {
          "output_type": "execute_result",
          "data": {
            "text/plain": [
              "Open AI in Education, the Responsible and Ethical Use of ChatGPT Towards                                           \n",
              "\n",
              "Lifelong Learning                                                                                                  \n",
              "\n",
              "David Mhlanga                                                                                                      \n",
              "\n",
              "University of Johannesburg, South Africa                                                                           \n",
              "\n",
              "College of Business and Economics                                                                                  \n",
              "\n",
              "PO Box 524, Auckland Park, 2006                                                                                    \n",
              "\n",
              "dmhlanga67@gmail.com                                                                                               \n",
              "\n",
              "Abstract                                                                                                           \n",
              "\n",
              "Significant changes have been brought about in society, the economy, and the environment as a                      \n",
              "\n",
              "result of the quick development of technology and the interconnection of the world. Artificial                     \n",
              "\n",
              "intelligence has advanced significantly in recent years, which has sparked the creation of ground                  \n",
              "\n",
              "breaking technologies like Open AI's ChatGPT. Modern technology like the ChatGPT language                          \n",
              "\n",
              "model has the potential to revolutionize the educational landscape. This article's goals are to                    \n",
              "\n",
              "present a thorough analysis of the responsible and ethical usage of ChatGPT in education, as well                  \n",
              "\n",
              "as to encourage further study and debate on this important subject. The study found that the use                   \n"
            ],
            "text/html": [
              "<pre style=\"white-space:pre;overflow-x:auto;line-height:normal;font-family:Menlo,'DejaVu Sans Mono',consolas,'Courier New',monospace\">Open AI in Education, the Responsible and Ethical Use of ChatGPT Towards                                           \n",
              "\n",
              "Lifelong Learning                                                                                                  \n",
              "\n",
              "David Mhlanga                                                                                                      \n",
              "\n",
              "University of Johannesburg, South Africa                                                                           \n",
              "\n",
              "College of Business and Economics                                                                                  \n",
              "\n",
              "PO Box 524, Auckland Park, 2006                                                                                    \n",
              "\n",
              "dmhlanga67@gmail.com                                                                                               \n",
              "\n",
              "Abstract                                                                                                           \n",
              "\n",
              "Significant changes have been brought about in society, the economy, and the environment as a                      \n",
              "\n",
              "result of the quick development of technology and the interconnection of the world. Artificial                     \n",
              "\n",
              "intelligence has advanced significantly in recent years, which has sparked the creation of ground                  \n",
              "\n",
              "breaking technologies like Open AI's ChatGPT. Modern technology like the ChatGPT language                          \n",
              "\n",
              "model has the potential to revolutionize the educational landscape. This article's goals are to                    \n",
              "\n",
              "present a thorough analysis of the responsible and ethical usage of ChatGPT in education, as well                  \n",
              "\n",
              "as to encourage further study and debate on this important subject. The study found that the use                   \n",
              "</pre>\n"
            ]
          },
          "metadata": {},
          "execution_count": 26
        }
      ]
    },
    {
      "cell_type": "code",
      "source": [
        "#get a hugging face api key\n",
        "if os.getenv(\"huggingface_api_key\") is None:\n",
        "  if any(['VSCODE' in x for x in os.environ.keys()]):\n",
        "    print('Please enter password in the VS Code prompt at the top of your VS Code window!')\n",
        "  os.environ[\"huggingface_api_key\"] = getpass(\"\")\n",
        "\n",
        "assert os.getenv(\"huggingface_api_key\", \"\").startswith(\"hf\"), \"This doesn't look like a valid huggingface API key\"\n",
        "print(\"huggingface API key configured\")"
      ],
      "metadata": {
        "colab": {
          "base_uri": "https://localhost:8080/"
        },
        "id": "BXNDAR7J9HsR",
        "outputId": "97a9c6ce-bf5c-416b-a002-173ca2884929"
      },
      "execution_count": 31,
      "outputs": [
        {
          "output_type": "stream",
          "name": "stdout",
          "text": [
            "huggingface API key configured\n"
          ]
        }
      ]
    },
    {
      "cell_type": "code",
      "source": [
        "# Embeddings\n",
        "from langchain_huggingface import HuggingFaceEmbeddings\n",
        "from langchain.vectorstores import Chroma\n",
        "\n",
        "embeddings = HuggingFaceEmbeddings(model_name = 'all-MiniLM-L6-v2')\n",
        "vectorstore = Chroma.from_documents(document_section, embeddings)\n",
        "\n",
        "retreiver = vectorstore.as_retriever(search_kwargs={\"k\": 3})\n",
        "\n",
        "query = 'Describe about what this document about?'\n",
        "docs = retreiver.get_relevant_documents(query)\n",
        "docs"
      ],
      "metadata": {
        "colab": {
          "base_uri": "https://localhost:8080/"
        },
        "id": "rWTPwcz-7vte",
        "outputId": "41d707b5-cf64-4057-8651-14f5fbe9d7d9"
      },
      "execution_count": 42,
      "outputs": [
        {
          "output_type": "execute_result",
          "data": {
            "text/plain": [
              "[Document(metadata={'source': 'sample_data/Open AI in Education, the Responsib.txt'}, page_content='Figure 1: Articles used from Various Sites\\n\\nGoogle Scholar\\n\\nScopus\\n\\nWeb of Science\\n\\nResearch Gate\\n\\nFigure 1 above is outlining the distribution of articles across various sites like google scholar,\\n\\nScopus, and research gate. Figure 2 explains the process followed to include and exclude other\\n\\narticles.\\n\\nElectronic copy available at: https://ssrn.com/abstract=4354422\\n\\nSource: Author’s Analysis\\n\\nFigure 2 outlines the steps that were used to determine which articles to include and which to\\n\\nomit. It details the websites, such as Google Scholar, Web of Science, and ResearchGate, from\\n\\nwhich the original documents were collected, as well as the screenings that were performed\\n\\ninitially and ultimately.\\n\\nTable 1: Selected Articles Consulted in the Study\\n\\nStudy Focus Year\\n\\nRodgers, W., Murray, J. M.,\\n\\nStefanidis, A., Degbey, W. Y., &\\n\\nTarba, S. Y.\\n\\nAn artificial intelligence algorithmic\\n\\napproach to ethical decision-making\\n\\nin human resource management\\n\\nprocesses.\\n\\n2023'),\n",
              " Document(metadata={'source': 'sample_data/Open AI in Education, the Responsib.txt'}, page_content='Figure 1: Articles used from Various Sites\\n\\nGoogle Scholar\\n\\nScopus\\n\\nWeb of Science\\n\\nResearch Gate\\n\\nFigure 1 above is outlining the distribution of articles across various sites like google scholar,\\n\\nScopus, and research gate. Figure 2 explains the process followed to include and exclude other\\n\\narticles.\\n\\nElectronic copy available at: https://ssrn.com/abstract=4354422\\n\\nSource: Author’s Analysis\\n\\nFigure 2 outlines the steps that were used to determine which articles to include and which to\\n\\nomit. It details the websites, such as Google Scholar, Web of Science, and ResearchGate, from\\n\\nwhich the original documents were collected, as well as the screenings that were performed\\n\\ninitially and ultimately.\\n\\nTable 1: Selected Articles Consulted in the Study\\n\\nStudy Focus Year\\n\\nRodgers, W., Murray, J. M.,\\n\\nStefanidis, A., Degbey, W. Y., &\\n\\nTarba, S. Y.\\n\\nAn artificial intelligence algorithmic\\n\\napproach to ethical decision-making\\n\\nin human resource management\\n\\nprocesses.\\n\\n2023'),\n",
              " Document(metadata={'source': 'sample_data/Open AI in Education, the Responsib.txt'}, page_content='isolate the ones that discussed the ethics of AI in education, and the responsible use of Chat\\n\\nGPT. In the end, a total of 23 publications were selected to include in the study and do the\\n\\nsubsequent analysis (see figure 2). These specific articles were the key sources of information\\n\\nthat were used to create the findings that were supplied and spoken about in this research.\\n\\nFollowing the completion of the investigation, a procedure known as thematic data analysis was\\n\\nperformed on the many problems that were discovered to categorize them into themes. The\\n\\nprocedure that was utilized to get the articles posted on a variety of reliable websites is broken\\n\\ndown into steps and depicted in the diagram that can be found below in Figure 1.\\n\\n16%\\n\\n14%\\n\\n56%\\n\\n14%\\n\\nFigure 1: Articles used from Various Sites\\n\\nGoogle Scholar\\n\\nScopus\\n\\nWeb of Science\\n\\nResearch Gate\\n\\nFigure 1 above is outlining the distribution of articles across various sites like google scholar,')]"
            ]
          },
          "metadata": {},
          "execution_count": 42
        }
      ]
    },
    {
      "cell_type": "code",
      "source": [
        "# Stuff Prompt\n",
        "from langchain.prompts import PromptTemplate\n",
        "prompt_template = \"\"\"Use the following pieces of context to answer the question at the end.\n",
        "If you don't know the answer, just say that you don't know, don't try to make up an answer.\n",
        "\n",
        "{context}\n",
        "\n",
        "Question: {question}\n",
        "Helpful Answer:\"\"\"\n",
        "PROMPT = PromptTemplate(\n",
        "    template=prompt_template, input_variables=[\"context\", \"question\"]\n",
        ")\n",
        "\n",
        "context = '\\n\\n'.join([doc.page_content for doc in docs])\n",
        "\n",
        "prompt = PROMPT.format(context=context, question=query)"
      ],
      "metadata": {
        "id": "T4T4zRoe8kb-"
      },
      "execution_count": 43,
      "outputs": []
    },
    {
      "cell_type": "code",
      "source": [
        "# get a groq api\n",
        "if os.getenv(\"GROQ_API_KEY\") is None:\n",
        "  if any(['VSCODE' in x for x in os.environ.keys()]):\n",
        "    print('Please enter password in the VS Code prompt at the top of your VS Code window!')\n",
        "  os.environ[\"GROQ_API_KEY\"] = getpass(\"\")\n",
        "\n",
        "assert os.getenv(\"GROQ_API_KEY\", \"\").startswith(\"gsk\"), \"This doesn't look like a valid groq API key\"\n",
        "print(\"groq API key configured\")"
      ],
      "metadata": {
        "colab": {
          "base_uri": "https://localhost:8080/"
        },
        "id": "5jGCR1bH-tVN",
        "outputId": "223f9d59-9c9d-456a-d2d8-92106dd707f5"
      },
      "execution_count": 44,
      "outputs": [
        {
          "output_type": "stream",
          "name": "stdout",
          "text": [
            "groq API key configured\n"
          ]
        }
      ]
    },
    {
      "cell_type": "code",
      "source": [
        "from langchain_groq import ChatGroq\n",
        "\n",
        "llm = ChatGroq(model_name= 'Gemma2-9b-It')\n",
        "\n",
        "response = llm.invoke(prompt)\n",
        "Markdown(response.content)"
      ],
      "metadata": {
        "colab": {
          "base_uri": "https://localhost:8080/",
          "height": 113
        },
        "id": "KAuPfawL_Gb4",
        "outputId": "cd49ef02-6027-4200-f8b0-b05037f0395e"
      },
      "execution_count": 45,
      "outputs": [
        {
          "output_type": "execute_result",
          "data": {
            "text/plain": [
              "This document describes a research study on the ethics of AI in education and the responsible use of ChatGPT.      \n",
              "\n",
              "It explains how the researchers selected 23 articles from various sources like Google Scholar, Scopus, Web of      \n",
              "Science, and ResearchGate.                                                                                         \n",
              "\n",
              "The document also mentions that they used thematic data analysis to categorize the findings from these articles.   \n"
            ],
            "text/html": [
              "<pre style=\"white-space:pre;overflow-x:auto;line-height:normal;font-family:Menlo,'DejaVu Sans Mono',consolas,'Courier New',monospace\">This document describes a research study on the ethics of AI in education and the responsible use of ChatGPT.      \n",
              "\n",
              "It explains how the researchers selected 23 articles from various sources like Google Scholar, Scopus, Web of      \n",
              "Science, and ResearchGate.                                                                                         \n",
              "\n",
              "The document also mentions that they used thematic data analysis to categorize the findings from these articles.   \n",
              "</pre>\n"
            ]
          },
          "metadata": {},
          "execution_count": 45
        }
      ]
    },
    {
      "cell_type": "code",
      "source": [
        "# using langchain retreivalqa\n",
        "from langchain.chains import RetrievalQA\n",
        "from langchain.chains import RetrievalQAWithSourcesChain\n",
        "\n",
        "qa = RetrievalQA.from_chain_type(llm=ChatGroq(model_name= 'Gemma2-9b-It'), chain_type=\"stuff\", retriever = retreiver)\n",
        "\n",
        "result = qa.run(query)\n",
        "\n",
        "Markdown(result)"
      ],
      "metadata": {
        "colab": {
          "base_uri": "https://localhost:8080/",
          "height": 281
        },
        "id": "b83WwwTr_fXl",
        "outputId": "8d25a3d6-4c39-44f1-9993-d00382237603"
      },
      "execution_count": 46,
      "outputs": [
        {
          "output_type": "stream",
          "name": "stderr",
          "text": [
            "<ipython-input-46-f261b6b80e8e>:7: LangChainDeprecationWarning: The method `Chain.run` was deprecated in langchain 0.1.0 and will be removed in 1.0. Use :meth:`~invoke` instead.\n",
            "  result = qa.run(query)\n"
          ]
        },
        {
          "output_type": "execute_result",
          "data": {
            "text/plain": [
              "This document describes a research study on the ethics of AI in education and the responsible use of ChatGPT.      \n",
              "\n",
              "Here's what we know:                                                                                               \n",
              "\n",
              "\u001b[1;33m • \u001b[0m\u001b[1mData Collection:\u001b[0m The researchers used multiple sources like Google Scholar, Scopus, Web of Science, and         \n",
              "\u001b[1;33m   \u001b[0mResearchGate to find relevant articles. Figure 2 details the specific steps they took to select the final       \n",
              "\u001b[1;33m   \u001b[0marticles.                                                                                                       \n",
              "\u001b[1;33m • \u001b[0m\u001b[1mArticle Selection:\u001b[0m 23 articles were ultimately chosen for the study. These articles focused on the ethics of AI \n",
              "\u001b[1;33m   \u001b[0min education and responsible ChatGPT use.                                                                       \n",
              "\u001b[1;33m • \u001b[0m\u001b[1mAnalysis:\u001b[0m The researchers used a method called \"thematic data analysis\" to categorize the findings from the     \n",
              "\u001b[1;33m   \u001b[0marticles into themes.                                                                                           \n",
              "\n",
              "The document likely goes on to present the themes discovered and the insights gained from the study.               \n"
            ],
            "text/html": [
              "<pre style=\"white-space:pre;overflow-x:auto;line-height:normal;font-family:Menlo,'DejaVu Sans Mono',consolas,'Courier New',monospace\">This document describes a research study on the ethics of AI in education and the responsible use of ChatGPT.      \n",
              "\n",
              "Here's what we know:                                                                                               \n",
              "\n",
              "<span style=\"color: #808000; text-decoration-color: #808000; font-weight: bold\"> • </span><span style=\"font-weight: bold\">Data Collection:</span> The researchers used multiple sources like Google Scholar, Scopus, Web of Science, and         \n",
              "<span style=\"color: #808000; text-decoration-color: #808000; font-weight: bold\">   </span>ResearchGate to find relevant articles. Figure 2 details the specific steps they took to select the final       \n",
              "<span style=\"color: #808000; text-decoration-color: #808000; font-weight: bold\">   </span>articles.                                                                                                       \n",
              "<span style=\"color: #808000; text-decoration-color: #808000; font-weight: bold\"> • </span><span style=\"font-weight: bold\">Article Selection:</span> 23 articles were ultimately chosen for the study. These articles focused on the ethics of AI \n",
              "<span style=\"color: #808000; text-decoration-color: #808000; font-weight: bold\">   </span>in education and responsible ChatGPT use.                                                                       \n",
              "<span style=\"color: #808000; text-decoration-color: #808000; font-weight: bold\"> • </span><span style=\"font-weight: bold\">Analysis:</span> The researchers used a method called \"thematic data analysis\" to categorize the findings from the     \n",
              "<span style=\"color: #808000; text-decoration-color: #808000; font-weight: bold\">   </span>articles into themes.                                                                                           \n",
              "\n",
              "The document likely goes on to present the themes discovered and the insights gained from the study.               \n",
              "</pre>\n"
            ]
          },
          "metadata": {},
          "execution_count": 46
        }
      ]
    }
  ]
}